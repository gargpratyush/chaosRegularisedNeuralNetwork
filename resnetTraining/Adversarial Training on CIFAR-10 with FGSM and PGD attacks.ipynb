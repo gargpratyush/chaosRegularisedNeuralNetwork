{
  "cells": [
    {
      "cell_type": "markdown",
      "metadata": {
        "id": "oVh6stZmm4FI"
      },
      "source": [
        "# Adversarial Training on CIFAR-10 with FGSM and PGD attacks"
      ]
    },
    {
      "cell_type": "markdown",
      "metadata": {
        "id": "VFC26E3Zsh1L"
      },
      "source": [
        "In this notebook, we perform FGSM (targeted and non-targeted) and PGD attacks on the CIFAR-10 dataset using the Resnet18 model and build models to defend against these attacks using the Adversarial Training mechanism."
      ]
    },
    {
      "cell_type": "markdown",
      "metadata": {
        "id": "lKBjLFN8W9Yl"
      },
      "source": [
        "## Table of contents\n",
        "*  **Preparing train and test data and building Resnet model**\n",
        "\n",
        "    -  Training function\n",
        "\n",
        "    -  Test function\n",
        "\n",
        "    -  Trainig and test loss of Resnet18 model on Cifar-10\n",
        "\n",
        "\n",
        "*  **FGSM**\n",
        "\n",
        "    - Visualizing 10 selected samples from the dataset\n",
        "\n",
        "    - FGSM attack function\n",
        "\n",
        "    -  Creating adversarial examples from samples with the FGSM attack and eps = 1/255\n",
        "\n",
        "    -  Adversarial Training with FGSM\n",
        "\n",
        "    - Comparing naturally-trained and adversarially-trained models\n",
        "\n",
        "    - Evaluating the adversarially-trained model with FGSM against FGSM attack on test data\n",
        "\n",
        "    - Targeted FGSM\n",
        "    \n",
        "\n",
        "*   **PGD**\n",
        "\n",
        "    - PGD attack function\n",
        "\n",
        "    - Adversarial Training with PGD\n",
        "\n",
        "    - Evaluating the adversarially-trained model with PGD against PGD attack on test data\n"
      ]
    },
    {
      "cell_type": "code",
      "execution_count": 7,
      "metadata": {
        "id": "ldHmoyhvUvhX"
      },
      "outputs": [],
      "source": [
        "import torch\n",
        "import torch.nn as nn\n",
        "import torch.optim as optim\n",
        "import torch.nn.functional as F\n",
        "import torch.backends.cudnn as cudnn\n",
        "from torch.autograd import *\n",
        "\n",
        "import torchvision\n",
        "import torchvision.transforms as transforms\n",
        "\n",
        "import os\n",
        "import argparse\n",
        "import matplotlib.pyplot as plt\n",
        "import numpy as np\n",
        "\n",
        "from resnet import *\n",
        "\n",
        "import pickle\n"
      ]
    },
    {
      "cell_type": "code",
      "execution_count": 12,
      "metadata": {
        "id": "kMJqAx798x5c"
      },
      "outputs": [
        {
          "name": "stdout",
          "output_type": "stream",
          "text": [
            "PyTorch is using GPU.\n",
            "Number of GPUs available: 2\n",
            "Current GPU: 1\n"
          ]
        }
      ],
      "source": [
        "\n",
        "\n",
        "# if torch.cuda.is_available():\n",
        "#     torch.cuda.set_device(1)  # Selects the second GPU\n",
        "#     print(\"PyTorch is using GPU.\")\n",
        "#     print(\"Number of GPUs available:\", torch.cuda.device_count())\n",
        "#     print(\"Current GPU:\", torch.cuda.current_device())\n",
        "# else:\n",
        "#     print(\"PyTorch is using CPU.\")"
      ]
    },
    {
      "cell_type": "code",
      "execution_count": null,
      "metadata": {},
      "outputs": [],
      "source": [
        "# import argparse\n",
        "import os\n",
        "\n",
        "# parser = argparse.ArgumentParser(description='PyTorch Cifar10 Training')\n",
        "# parser.add_argument('--ngpu', type=int, default=1, help='0 = CPU.')\n",
        "# parser.add_argument('--gpu_id', type=int, default=0,\n",
        "#                     help='device range [0,ngpu-1]')\n",
        "\n",
        "\n",
        "# args = parser.parse_args()\n",
        "\n",
        "os.environ[\"CUDA_DEVICE_ORDER\"] = \"PCI_BUS_ID\"\n",
        "ngpu = 1\n",
        "gpu_id = 1\n",
        "if ngpu == 1:\n",
        "    # make only devices indexed by #gpu_id visible\n",
        "    os.environ[\"CUDA_VISIBLE_DEVICES\"] = str(gpu_id)"
      ]
    },
    {
      "cell_type": "code",
      "execution_count": null,
      "metadata": {},
      "outputs": [],
      "source": [
        "device = 'cuda' if torch.cuda.is_available() else 'cpu'\n",
        "lr = 0.01"
      ]
    },
    {
      "cell_type": "markdown",
      "metadata": {
        "id": "q6rG9cl3RbfJ"
      },
      "source": [
        "<a name='name'></a>\n",
        "### Preparing train and test data and building Resnet model"
      ]
    },
    {
      "cell_type": "code",
      "execution_count": 3,
      "metadata": {
        "colab": {
          "base_uri": "https://localhost:8080/"
        },
        "id": "pBNfOkMr92S3",
        "outputId": "945440d6-fc1f-4d88-bd2e-ba3e829d3968"
      },
      "outputs": [
        {
          "name": "stdout",
          "output_type": "stream",
          "text": [
            "==> Preparing data..\n",
            "Downloading https://www.cs.toronto.edu/~kriz/cifar-10-python.tar.gz to ./data/cifar-10-python.tar.gz\n"
          ]
        },
        {
          "name": "stderr",
          "output_type": "stream",
          "text": [
            "100.0%"
          ]
        },
        {
          "name": "stdout",
          "output_type": "stream",
          "text": [
            "Extracting ./data/cifar-10-python.tar.gz to ./data\n",
            "Files already downloaded and verified\n",
            "==> Building model..\n"
          ]
        }
      ],
      "source": [
        "print('==> Preparing data..')\n",
        "transform_train = transforms.Compose([\n",
        "    transforms.RandomCrop(32, padding=4),\n",
        "    transforms.RandomHorizontalFlip(),\n",
        "    transforms.ToTensor(),\n",
        "    transforms.Normalize((0.4914, 0.4822, 0.4465), (0.2023, 0.1994, 0.2010)),\n",
        "])\n",
        "\n",
        "transform_test = transforms.Compose([\n",
        "    transforms.ToTensor(),\n",
        "    transforms.Normalize((0.4914, 0.4822, 0.4465), (0.2023, 0.1994, 0.2010)),\n",
        "])\n",
        "\n",
        "trainset = torchvision.datasets.CIFAR10(\n",
        "    root='./data', train=True, download=True, transform=transform_train)\n",
        "trainloader = torch.utils.data.DataLoader(\n",
        "    trainset, batch_size=128, shuffle=True, num_workers=2)\n",
        "\n",
        "testset = torchvision.datasets.CIFAR10(\n",
        "    root='./data', train=False, download=True, transform=transform_test)\n",
        "testloader = torch.utils.data.DataLoader(\n",
        "    testset, batch_size=100, shuffle=False, num_workers=2)\n",
        "\n",
        "classes = ('plane', 'car', 'bird', 'cat', 'deer',\n",
        "           'dog', 'frog', 'horse', 'ship', 'truck')\n",
        "\n",
        "# Model\n",
        "print('==> Building model..')\n",
        "net = ResNet18()\n",
        "net = net.to(device)\n",
        "if device == 'cuda':\n",
        "    net = torch.nn.DataParallel(net)\n",
        "    cudnn.benchmark = True\n",
        "\n",
        "criterion = nn.CrossEntropyLoss()\n",
        "optimizer = optim.SGD(net.parameters(), lr=lr,\n",
        "                      momentum=0.9, weight_decay=5e-4)\n",
        "scheduler = torch.optim.lr_scheduler.CosineAnnealingLR(optimizer, T_max=200)\n"
      ]
    },
    {
      "cell_type": "markdown",
      "metadata": {
        "id": "m_8ZibSM89TE"
      },
      "source": [
        "### Training function"
      ]
    },
    {
      "cell_type": "code",
      "execution_count": 4,
      "metadata": {
        "id": "OOLoVjk087ek"
      },
      "outputs": [],
      "source": [
        "def train(epoch, net):\n",
        "    \n",
        "    '''\n",
        "    this function train net on training dataset\n",
        "    '''\n",
        "\n",
        "    net.train()\n",
        "    train_loss = 0\n",
        "    correct = 0\n",
        "    total = 0\n",
        "    for batch_idx, (inputs, targets) in enumerate(trainloader):\n",
        "        inputs, targets = inputs.to(device), targets.to(device)\n",
        "        optimizer.zero_grad()\n",
        "        outputs = net(inputs)\n",
        "        loss = criterion(outputs, targets)\n",
        "        loss.backward()\n",
        "        optimizer.step()\n",
        "\n",
        "        train_loss += loss.item()\n",
        "        _, predicted = outputs.max(1)\n",
        "        total += targets.size(0)\n",
        "        correct += predicted.eq(targets).sum().item()\n",
        "    return train_loss/len(trainloader)"
      ]
    },
    {
      "cell_type": "markdown",
      "metadata": {
        "id": "FLW2eqqttuMN"
      },
      "source": [
        "### Test function"
      ]
    },
    {
      "cell_type": "code",
      "execution_count": 5,
      "metadata": {
        "id": "gVgd8234ttfj"
      },
      "outputs": [],
      "source": [
        "def test(epoch, net):\n",
        "\n",
        "    '''\n",
        "    This function evaluate net on test dataset\n",
        "    '''\n",
        "\n",
        "    global acc\n",
        "    net.eval()\n",
        "    test_loss = 0\n",
        "    correct = 0\n",
        "    total = 0\n",
        "    with torch.no_grad():\n",
        "        for batch_idx, (inputs, targets) in enumerate(testloader):\n",
        "            inputs, targets = inputs.to(device), targets.to(device)\n",
        "            outputs = net(inputs)\n",
        "            loss = criterion(outputs, targets)\n",
        "\n",
        "            test_loss += loss.item()\n",
        "            _, predicted = outputs.max(1)\n",
        "            total += targets.size(0)\n",
        "            correct += predicted.eq(targets).sum().item()\n",
        "    acc = 100 * correct / total\n",
        "    return test_loss/len(testloader)"
      ]
    },
    {
      "cell_type": "code",
      "execution_count": 6,
      "metadata": {
        "id": "8Qn-FmGhK1-F"
      },
      "outputs": [
        {
          "ename": "KeyboardInterrupt",
          "evalue": "",
          "output_type": "error",
          "traceback": [
            "\u001b[0;31m---------------------------------------------------------------------------\u001b[0m",
            "\u001b[0;31mKeyboardInterrupt\u001b[0m                         Traceback (most recent call last)",
            "Cell \u001b[0;32mIn[6], line 6\u001b[0m\n\u001b[1;32m      3\u001b[0m epochs\u001b[38;5;241m=\u001b[39m\u001b[38;5;241m40\u001b[39m\n\u001b[1;32m      5\u001b[0m \u001b[38;5;28;01mfor\u001b[39;00m epoch \u001b[38;5;129;01min\u001b[39;00m \u001b[38;5;28mrange\u001b[39m(\u001b[38;5;241m0\u001b[39m,epochs):\n\u001b[0;32m----> 6\u001b[0m     train_losses\u001b[38;5;241m.\u001b[39mappend(\u001b[43mtrain\u001b[49m\u001b[43m(\u001b[49m\u001b[43mepoch\u001b[49m\u001b[43m,\u001b[49m\u001b[43m \u001b[49m\u001b[43mnet\u001b[49m\u001b[43m)\u001b[49m)\n\u001b[1;32m      7\u001b[0m     test_losses\u001b[38;5;241m.\u001b[39mappend(test(epoch, net))\n\u001b[1;32m      8\u001b[0m     scheduler\u001b[38;5;241m.\u001b[39mstep()\n",
            "Cell \u001b[0;32mIn[4], line 14\u001b[0m, in \u001b[0;36mtrain\u001b[0;34m(epoch, net)\u001b[0m\n\u001b[1;32m     12\u001b[0m inputs, targets \u001b[38;5;241m=\u001b[39m inputs\u001b[38;5;241m.\u001b[39mto(device), targets\u001b[38;5;241m.\u001b[39mto(device)\n\u001b[1;32m     13\u001b[0m optimizer\u001b[38;5;241m.\u001b[39mzero_grad()\n\u001b[0;32m---> 14\u001b[0m outputs \u001b[38;5;241m=\u001b[39m \u001b[43mnet\u001b[49m\u001b[43m(\u001b[49m\u001b[43minputs\u001b[49m\u001b[43m)\u001b[49m\n\u001b[1;32m     15\u001b[0m loss \u001b[38;5;241m=\u001b[39m criterion(outputs, targets)\n\u001b[1;32m     16\u001b[0m loss\u001b[38;5;241m.\u001b[39mbackward()\n",
            "File \u001b[0;32m~/miniconda3/envs/pytorch_3.9/lib/python3.9/site-packages/torch/nn/modules/module.py:727\u001b[0m, in \u001b[0;36mModule._call_impl\u001b[0;34m(self, *input, **kwargs)\u001b[0m\n\u001b[1;32m    725\u001b[0m     result \u001b[38;5;241m=\u001b[39m \u001b[38;5;28mself\u001b[39m\u001b[38;5;241m.\u001b[39m_slow_forward(\u001b[38;5;241m*\u001b[39m\u001b[38;5;28minput\u001b[39m, \u001b[38;5;241m*\u001b[39m\u001b[38;5;241m*\u001b[39mkwargs)\n\u001b[1;32m    726\u001b[0m \u001b[38;5;28;01melse\u001b[39;00m:\n\u001b[0;32m--> 727\u001b[0m     result \u001b[38;5;241m=\u001b[39m \u001b[38;5;28;43mself\u001b[39;49m\u001b[38;5;241;43m.\u001b[39;49m\u001b[43mforward\u001b[49m\u001b[43m(\u001b[49m\u001b[38;5;241;43m*\u001b[39;49m\u001b[38;5;28;43minput\u001b[39;49m\u001b[43m,\u001b[49m\u001b[43m \u001b[49m\u001b[38;5;241;43m*\u001b[39;49m\u001b[38;5;241;43m*\u001b[39;49m\u001b[43mkwargs\u001b[49m\u001b[43m)\u001b[49m\n\u001b[1;32m    728\u001b[0m \u001b[38;5;28;01mfor\u001b[39;00m hook \u001b[38;5;129;01min\u001b[39;00m itertools\u001b[38;5;241m.\u001b[39mchain(\n\u001b[1;32m    729\u001b[0m         _global_forward_hooks\u001b[38;5;241m.\u001b[39mvalues(),\n\u001b[1;32m    730\u001b[0m         \u001b[38;5;28mself\u001b[39m\u001b[38;5;241m.\u001b[39m_forward_hooks\u001b[38;5;241m.\u001b[39mvalues()):\n\u001b[1;32m    731\u001b[0m     hook_result \u001b[38;5;241m=\u001b[39m hook(\u001b[38;5;28mself\u001b[39m, \u001b[38;5;28minput\u001b[39m, result)\n",
            "File \u001b[0;32m~/miniconda3/envs/pytorch_3.9/lib/python3.9/site-packages/torch/nn/parallel/data_parallel.py:161\u001b[0m, in \u001b[0;36mDataParallel.forward\u001b[0;34m(self, *inputs, **kwargs)\u001b[0m\n\u001b[1;32m    159\u001b[0m     \u001b[38;5;28;01mreturn\u001b[39;00m \u001b[38;5;28mself\u001b[39m\u001b[38;5;241m.\u001b[39mmodule(\u001b[38;5;241m*\u001b[39minputs[\u001b[38;5;241m0\u001b[39m], \u001b[38;5;241m*\u001b[39m\u001b[38;5;241m*\u001b[39mkwargs[\u001b[38;5;241m0\u001b[39m])\n\u001b[1;32m    160\u001b[0m replicas \u001b[38;5;241m=\u001b[39m \u001b[38;5;28mself\u001b[39m\u001b[38;5;241m.\u001b[39mreplicate(\u001b[38;5;28mself\u001b[39m\u001b[38;5;241m.\u001b[39mmodule, \u001b[38;5;28mself\u001b[39m\u001b[38;5;241m.\u001b[39mdevice_ids[:\u001b[38;5;28mlen\u001b[39m(inputs)])\n\u001b[0;32m--> 161\u001b[0m outputs \u001b[38;5;241m=\u001b[39m \u001b[38;5;28;43mself\u001b[39;49m\u001b[38;5;241;43m.\u001b[39;49m\u001b[43mparallel_apply\u001b[49m\u001b[43m(\u001b[49m\u001b[43mreplicas\u001b[49m\u001b[43m,\u001b[49m\u001b[43m \u001b[49m\u001b[43minputs\u001b[49m\u001b[43m,\u001b[49m\u001b[43m \u001b[49m\u001b[43mkwargs\u001b[49m\u001b[43m)\u001b[49m\n\u001b[1;32m    162\u001b[0m \u001b[38;5;28;01mreturn\u001b[39;00m \u001b[38;5;28mself\u001b[39m\u001b[38;5;241m.\u001b[39mgather(outputs, \u001b[38;5;28mself\u001b[39m\u001b[38;5;241m.\u001b[39moutput_device)\n",
            "File \u001b[0;32m~/miniconda3/envs/pytorch_3.9/lib/python3.9/site-packages/torch/nn/parallel/data_parallel.py:171\u001b[0m, in \u001b[0;36mDataParallel.parallel_apply\u001b[0;34m(self, replicas, inputs, kwargs)\u001b[0m\n\u001b[1;32m    170\u001b[0m \u001b[38;5;28;01mdef\u001b[39;00m \u001b[38;5;21mparallel_apply\u001b[39m(\u001b[38;5;28mself\u001b[39m, replicas, inputs, kwargs):\n\u001b[0;32m--> 171\u001b[0m     \u001b[38;5;28;01mreturn\u001b[39;00m \u001b[43mparallel_apply\u001b[49m\u001b[43m(\u001b[49m\u001b[43mreplicas\u001b[49m\u001b[43m,\u001b[49m\u001b[43m \u001b[49m\u001b[43minputs\u001b[49m\u001b[43m,\u001b[49m\u001b[43m \u001b[49m\u001b[43mkwargs\u001b[49m\u001b[43m,\u001b[49m\u001b[43m \u001b[49m\u001b[38;5;28;43mself\u001b[39;49m\u001b[38;5;241;43m.\u001b[39;49m\u001b[43mdevice_ids\u001b[49m\u001b[43m[\u001b[49m\u001b[43m:\u001b[49m\u001b[38;5;28;43mlen\u001b[39;49m\u001b[43m(\u001b[49m\u001b[43mreplicas\u001b[49m\u001b[43m)\u001b[49m\u001b[43m]\u001b[49m\u001b[43m)\u001b[49m\n",
            "File \u001b[0;32m~/miniconda3/envs/pytorch_3.9/lib/python3.9/site-packages/torch/nn/parallel/parallel_apply.py:78\u001b[0m, in \u001b[0;36mparallel_apply\u001b[0;34m(modules, inputs, kwargs_tup, devices)\u001b[0m\n\u001b[1;32m     76\u001b[0m         thread\u001b[38;5;241m.\u001b[39mstart()\n\u001b[1;32m     77\u001b[0m     \u001b[38;5;28;01mfor\u001b[39;00m thread \u001b[38;5;129;01min\u001b[39;00m threads:\n\u001b[0;32m---> 78\u001b[0m         \u001b[43mthread\u001b[49m\u001b[38;5;241;43m.\u001b[39;49m\u001b[43mjoin\u001b[49m\u001b[43m(\u001b[49m\u001b[43m)\u001b[49m\n\u001b[1;32m     79\u001b[0m \u001b[38;5;28;01melse\u001b[39;00m:\n\u001b[1;32m     80\u001b[0m     _worker(\u001b[38;5;241m0\u001b[39m, modules[\u001b[38;5;241m0\u001b[39m], inputs[\u001b[38;5;241m0\u001b[39m], kwargs_tup[\u001b[38;5;241m0\u001b[39m], devices[\u001b[38;5;241m0\u001b[39m])\n",
            "File \u001b[0;32m~/miniconda3/envs/pytorch_3.9/lib/python3.9/threading.py:1060\u001b[0m, in \u001b[0;36mThread.join\u001b[0;34m(self, timeout)\u001b[0m\n\u001b[1;32m   1057\u001b[0m     \u001b[38;5;28;01mraise\u001b[39;00m \u001b[38;5;167;01mRuntimeError\u001b[39;00m(\u001b[38;5;124m\"\u001b[39m\u001b[38;5;124mcannot join current thread\u001b[39m\u001b[38;5;124m\"\u001b[39m)\n\u001b[1;32m   1059\u001b[0m \u001b[38;5;28;01mif\u001b[39;00m timeout \u001b[38;5;129;01mis\u001b[39;00m \u001b[38;5;28;01mNone\u001b[39;00m:\n\u001b[0;32m-> 1060\u001b[0m     \u001b[38;5;28;43mself\u001b[39;49m\u001b[38;5;241;43m.\u001b[39;49m\u001b[43m_wait_for_tstate_lock\u001b[49m\u001b[43m(\u001b[49m\u001b[43m)\u001b[49m\n\u001b[1;32m   1061\u001b[0m \u001b[38;5;28;01melse\u001b[39;00m:\n\u001b[1;32m   1062\u001b[0m     \u001b[38;5;66;03m# the behavior of a negative timeout isn't documented, but\u001b[39;00m\n\u001b[1;32m   1063\u001b[0m     \u001b[38;5;66;03m# historically .join(timeout=x) for x<0 has acted as if timeout=0\u001b[39;00m\n\u001b[1;32m   1064\u001b[0m     \u001b[38;5;28mself\u001b[39m\u001b[38;5;241m.\u001b[39m_wait_for_tstate_lock(timeout\u001b[38;5;241m=\u001b[39m\u001b[38;5;28mmax\u001b[39m(timeout, \u001b[38;5;241m0\u001b[39m))\n",
            "File \u001b[0;32m~/miniconda3/envs/pytorch_3.9/lib/python3.9/threading.py:1080\u001b[0m, in \u001b[0;36mThread._wait_for_tstate_lock\u001b[0;34m(self, block, timeout)\u001b[0m\n\u001b[1;32m   1077\u001b[0m     \u001b[38;5;28;01mreturn\u001b[39;00m\n\u001b[1;32m   1079\u001b[0m \u001b[38;5;28;01mtry\u001b[39;00m:\n\u001b[0;32m-> 1080\u001b[0m     \u001b[38;5;28;01mif\u001b[39;00m \u001b[43mlock\u001b[49m\u001b[38;5;241;43m.\u001b[39;49m\u001b[43macquire\u001b[49m\u001b[43m(\u001b[49m\u001b[43mblock\u001b[49m\u001b[43m,\u001b[49m\u001b[43m \u001b[49m\u001b[43mtimeout\u001b[49m\u001b[43m)\u001b[49m:\n\u001b[1;32m   1081\u001b[0m         lock\u001b[38;5;241m.\u001b[39mrelease()\n\u001b[1;32m   1082\u001b[0m         \u001b[38;5;28mself\u001b[39m\u001b[38;5;241m.\u001b[39m_stop()\n",
            "\u001b[0;31mKeyboardInterrupt\u001b[0m: "
          ]
        }
      ],
      "source": [
        "train_losses=[]\n",
        "test_losses=[]\n",
        "epochs=40\n",
        "\n",
        "for epoch in range(0,epochs):\n",
        "    train_losses.append(train(epoch, net))\n",
        "    test_losses.append(test(epoch, net))\n",
        "    scheduler.step()"
      ]
    },
    {
      "cell_type": "code",
      "execution_count": null,
      "metadata": {
        "colab": {
          "base_uri": "https://localhost:8080/"
        },
        "id": "IB9Bli96y1rG",
        "outputId": "0254a472-1d9a-4325-d9cd-5ffb40e0fd1e"
      },
      "outputs": [
        {
          "name": "stdout",
          "output_type": "stream",
          "text": [
            "Accuracy of the network on the test images: 90 %\n"
          ]
        }
      ],
      "source": [
        "print('Accuracy of the network on the test images: %d %%' % (acc))"
      ]
    },
    {
      "cell_type": "markdown",
      "metadata": {
        "id": "uynnLdqcm3k_"
      },
      "source": [
        "####Training and test loss of Resnet18 model on Cifar-10"
      ]
    },
    {
      "cell_type": "code",
      "execution_count": null,
      "metadata": {
        "colab": {
          "base_uri": "https://localhost:8080/",
          "height": 265
        },
        "id": "AQ5q3IPr2lxE",
        "outputId": "d68a4cab-e75a-4ef0-b323-f564b228bf15"
      },
      "outputs": [
        {
          "data": {
            "image/png": "[encoded data removed]",
            "text/plain": [
              "<Figure size 432x288 with 1 Axes>"
            ]
          },
          "metadata": {
            "needs_background": "light"
          },
          "output_type": "display_data"
        }
      ],
      "source": [
        "epochs=40\n",
        "plt.plot(np.arange(1,epochs+1),train_losses, label='train losses')\n",
        "plt.plot(np.arange(1,epochs+1), test_losses, label='test losses')\n",
        "plt.xlabel('epochs')\n",
        "plt.ylabel('losses')\n",
        "plt.legend()\n",
        "plt.show()"
      ]
    },
    {
      "cell_type": "code",
      "execution_count": null,
      "metadata": {},
      "outputs": [],
      "source": [
        "# # Save the model parameters\n",
        "# torch.save(net.state_dict(), 'resnet18_cifar10_basicTraining.pth')"
      ]
    },
    {
      "cell_type": "markdown",
      "metadata": {
        "id": "YOCf4q-VRW0s"
      },
      "source": [
        "## FGSM"
      ]
    },
    {
      "cell_type": "markdown",
      "metadata": {
        "id": "s29e791J9F0V"
      },
      "source": [
        "### Visualizing 10 selected samples from the dataset"
      ]
    },
    {
      "cell_type": "markdown",
      "metadata": {
        "id": "wVVVLdDSS2LH"
      },
      "source": [
        "We need these samples later to make adversarial examples."
      ]
    },
    {
      "cell_type": "code",
      "execution_count": null,
      "metadata": {
        "id": "Bsd2s6Kihysc"
      },
      "outputs": [],
      "source": [
        "imgloader = torch.utils.data.DataLoader(\n",
        "    testset, batch_size=100, shuffle=False, num_workers=2)\n",
        "dataiter = iter(imgloader)\n",
        "org_images, org_labels = dataiter.next()"
      ]
    },
    {
      "cell_type": "code",
      "execution_count": null,
      "metadata": {
        "colab": {
          "base_uri": "https://localhost:8080/"
        },
        "id": "_h4OjoPnFiAA",
        "outputId": "d6f3e3d5-fd37-467e-f3a2-f8e179c93457"
      },
      "outputs": [
        {
          "name": "stdout",
          "output_type": "stream",
          "text": [
            "torch.Size([100, 3, 32, 32])\n",
            "torch.Size([100, 10])\n"
          ]
        }
      ],
      "source": [
        "org_labels = org_labels.to(device)\n",
        "org_images = org_images.to(device)\n",
        "print(org_images.shape)\n",
        "outputs= net(org_images)\n",
        "output=outputs.to(device)\n",
        "print(outputs.shape)\n",
        "_, predicted = torch.max(outputs.data, 1)"
      ]
    },
    {
      "cell_type": "code",
      "execution_count": null,
      "metadata": {
        "colab": {
          "base_uri": "https://localhost:8080/",
          "height": 372
        },
        "id": "dEnJ2Vz2j8Zt",
        "outputId": "8926916a-6fcc-44eb-bb33-3fd50f4a3395"
      },
      "outputs": [
        {
          "name": "stderr",
          "output_type": "stream",
          "text": [
            "Clipping input data to the valid range for imshow with RGB data ([0..1] for floats or [0..255] for integers).\n"
          ]
        },
        {
          "data": {
            "image/png": "[encoded data removed]",
            "text/plain": [
              "<Figure size 1440x1440 with 1 Axes>"
            ]
          },
          "metadata": {
            "needs_background": "light"
          },
          "output_type": "display_data"
        }
      ],
      "source": [
        "def imshow(img):\n",
        "    img = img / 2 + 0.5     # unnormalize\n",
        "    npimg = img.numpy()\n",
        "    plt.figure(figsize=(20,20))\n",
        "    plt.imshow(np.transpose(npimg, (1, 2, 0)))\n",
        "    plt.show()\n",
        "\n",
        "\n",
        "samples = []\n",
        "samples_labels = []\n",
        "samples_pred = []\n",
        "selected = [3,66,67,0,26,16,4,13,1,11]\n",
        "\n",
        "for i in selected:\n",
        "  samples.append(org_images[i])\n",
        "  samples_labels.append(org_labels[i])\n",
        "  samples_pred.append(outputs[i])\n",
        "samples = torch.stack(samples)\n",
        "samples_labels = torch.stack(samples_labels)\n",
        "samples_pred = torch.stack(samples_pred)\n",
        "imshow(torchvision.utils.make_grid(samples.cpu()))"
      ]
    },
    {
      "cell_type": "markdown",
      "metadata": {
        "id": "40nvLOJjRqIW"
      },
      "source": [
        "###FGSM attack function\n",
        "In the FGSM attack, we make adversarial examples using this equation:\n",
        "$x_{adv}=x_{benign}+\\epsilon * sign(\\nabla_{x_{benign}}l(\\theta, x, y))$"
      ]
    },
    {
      "cell_type": "code",
      "execution_count": null,
      "metadata": {
        "id": "9UnTlW9TTc9i"
      },
      "outputs": [],
      "source": [
        "def FGSM(net, x, y, eps):\n",
        "        '''\n",
        "        inputs:\n",
        "            net: the network through which we pass the inputs\n",
        "            x: the original example which we aim to perturb to make an adversarial example\n",
        "            y: the true label of x\n",
        "            eps: perturbation budget\n",
        "\n",
        "        outputs:\n",
        "            x_adv : the adversarial example constructed from x\n",
        "            h_adv: output of the last softmax layer when applying net on x_adv \n",
        "            y_adv: predicted label for x_adv\n",
        "            pert: perturbation applied to x (x_adv - x)\n",
        "        '''\n",
        "\n",
        "        x_ = Variable(x.data, requires_grad=True)\n",
        "        h_ = net(x_)\n",
        "        criterion= torch.nn.CrossEntropyLoss()\n",
        "        cost = criterion(h_, y)\n",
        "        net.zero_grad()\n",
        "        cost.backward()\n",
        "\n",
        "        #perturbation\n",
        "        pert= eps*x_.grad.detach().sign()\n",
        "        \n",
        "        x_adv = x_ + pert\n",
        "\n",
        "        h_adv = net(x_adv)\n",
        "        _,y_adv=torch.max(h_adv.data,1)\n",
        "        return x_adv, h_adv, y_adv, pert\n"
      ]
    },
    {
      "cell_type": "markdown",
      "metadata": {
        "id": "NH8r6HvNiaH5"
      },
      "source": [
        "### Creating adversarial examples from samples with the FGSM attack and eps = 1/255"
      ]
    },
    {
      "cell_type": "code",
      "execution_count": null,
      "metadata": {
        "colab": {
          "base_uri": "https://localhost:8080/",
          "height": 1000
        },
        "id": "Dlz3Js_7TQ2z",
        "outputId": "d2150316-6f43-4466-aa4d-fe5dc268aec7"
      },
      "outputs": [
        {
          "name": "stdout",
          "output_type": "stream",
          "text": [
            "\n",
            "from left to right: (1/eps) perturbation, original image, adversarial example\n",
            "\n"
          ]
        },
        {
          "name": "stderr",
          "output_type": "stream",
          "text": [
            "Clipping input data to the valid range for imshow with RGB data ([0..1] for floats or [0..255] for integers).\n"
          ]
        },
        {
          "name": "stdout",
          "output_type": "stream",
          "text": [
            "true label: 0 adversary label: 8\n"
          ]
        },
        {
          "data": {
            "image/png": "[encoded data removed]",
            "text/plain": [
              "<Figure size 720x720 with 1 Axes>"
            ]
          },
          "metadata": {
            "needs_background": "light"
          },
          "output_type": "display_data"
        },
        {
          "name": "stderr",
          "output_type": "stream",
          "text": [
            "Clipping input data to the valid range for imshow with RGB data ([0..1] for floats or [0..255] for integers).\n"
          ]
        },
        {
          "name": "stdout",
          "output_type": "stream",
          "text": [
            "true label: 1 adversary label: 8\n"
          ]
        },
        {
          "data": {
            "image/png": "[encoded data removed]",
            "text/plain": [
              "<Figure size 720x720 with 1 Axes>"
            ]
          },
          "metadata": {
            "needs_background": "light"
          },
          "output_type": "display_data"
        },
        {
          "name": "stderr",
          "output_type": "stream",
          "text": [
            "Clipping input data to the valid range for imshow with RGB data ([0..1] for floats or [0..255] for integers).\n"
          ]
        },
        {
          "name": "stdout",
          "output_type": "stream",
          "text": [
            "true label: 2 adversary label: 1\n"
          ]
        },
        {
          "data": {
            "image/png": "[encoded data removed]",
            "text/plain": [
              "<Figure size 720x720 with 1 Axes>"
            ]
          },
          "metadata": {
            "needs_background": "light"
          },
          "output_type": "display_data"
        },
        {
          "name": "stderr",
          "output_type": "stream",
          "text": [
            "Clipping input data to the valid range for imshow with RGB data ([0..1] for floats or [0..255] for integers).\n"
          ]
        },
        {
          "name": "stdout",
          "output_type": "stream",
          "text": [
            "true label: 3 adversary label: 5\n"
          ]
        },
        {
          "data": {
            "image/png": "[encoded data removed]",
            "text/plain": [
              "<Figure size 720x720 with 1 Axes>"
            ]
          },
          "metadata": {
            "needs_background": "light"
          },
          "output_type": "display_data"
        },
        {
          "name": "stderr",
          "output_type": "stream",
          "text": [
            "Clipping input data to the valid range for imshow with RGB data ([0..1] for floats or [0..255] for integers).\n"
          ]
        },
        {
          "name": "stdout",
          "output_type": "stream",
          "text": [
            "true label: 4 adversary label: 2\n"
          ]
        },
        {
          "data": {
            "image/png": "[encoded data removed]",
            "text/plain": [
              "<Figure size 720x720 with 1 Axes>"
            ]
          },
          "metadata": {
            "needs_background": "light"
          },
          "output_type": "display_data"
        },
        {
          "name": "stderr",
          "output_type": "stream",
          "text": [
            "Clipping input data to the valid range for imshow with RGB data ([0..1] for floats or [0..255] for integers).\n"
          ]
        },
        {
          "name": "stdout",
          "output_type": "stream",
          "text": [
            "true label: 5 adversary label: 7\n"
          ]
        },
        {
          "data": {
            "image/png": "[encoded data removed]",
            "text/plain": [
              "<Figure size 720x720 with 1 Axes>"
            ]
          },
          "metadata": {
            "needs_background": "light"
          },
          "output_type": "display_data"
        },
        {
          "name": "stderr",
          "output_type": "stream",
          "text": [
            "Clipping input data to the valid range for imshow with RGB data ([0..1] for floats or [0..255] for integers).\n"
          ]
        },
        {
          "name": "stdout",
          "output_type": "stream",
          "text": [
            "true label: 6 adversary label: 2\n"
          ]
        },
        {
          "data": {
            "image/png": "[encoded data removed]",
            "text/plain": [
              "<Figure size 720x720 with 1 Axes>"
            ]
          },
          "metadata": {
            "needs_background": "light"
          },
          "output_type": "display_data"
        },
        {
          "name": "stderr",
          "output_type": "stream",
          "text": [
            "Clipping input data to the valid range for imshow with RGB data ([0..1] for floats or [0..255] for integers).\n"
          ]
        },
        {
          "name": "stdout",
          "output_type": "stream",
          "text": [
            "true label: 7 adversary label: 5\n"
          ]
        },
        {
          "data": {
            "image/png": "[encoded data removed]",
            "text/plain": [
              "<Figure size 720x720 with 1 Axes>"
            ]
          },
          "metadata": {
            "needs_background": "light"
          },
          "output_type": "display_data"
        },
        {
          "name": "stderr",
          "output_type": "stream",
          "text": [
            "Clipping input data to the valid range for imshow with RGB data ([0..1] for floats or [0..255] for integers).\n"
          ]
        },
        {
          "name": "stdout",
          "output_type": "stream",
          "text": [
            "true label: 8 adversary label: 0\n"
          ]
        },
        {
          "data": {
            "image/png": "[encoded data removed]",
            "text/plain": [
              "<Figure size 720x720 with 1 Axes>"
            ]
          },
          "metadata": {
            "needs_background": "light"
          },
          "output_type": "display_data"
        },
        {
          "name": "stderr",
          "output_type": "stream",
          "text": [
            "Clipping input data to the valid range for imshow with RGB data ([0..1] for floats or [0..255] for integers).\n"
          ]
        },
        {
          "name": "stdout",
          "output_type": "stream",
          "text": [
            "true label: 9 adversary label: 1\n"
          ]
        },
        {
          "data": {
            "image/png": "[encoded data removed]",
            "text/plain": [
              "<Figure size 720x720 with 1 Axes>"
            ]
          },
          "metadata": {
            "needs_background": "light"
          },
          "output_type": "display_data"
        }
      ],
      "source": [
        "print()\n",
        "print('from left to right: (1/eps) perturbation, original image, adversarial example')\n",
        "print()\n",
        "for i in selected:\n",
        "    eps=1/255\n",
        "    while True:\n",
        "        x_adv, h_adv, y_adv, pert=FGSM(net, org_images[i].unsqueeze_(0),org_labels[i].unsqueeze_(0),eps)\n",
        "        if y_adv.item()==org_labels[i].item():\n",
        "            eps=eps+(1/255)\n",
        "        else:\n",
        "            break\n",
        "    print(\"true label:\", org_labels[i].item(), \"adversary label:\", y_adv.item())\n",
        "    triple=[]\n",
        "    with torch.no_grad():\n",
        "        triple.append((1/eps)*pert.detach().clone().squeeze_(0))\n",
        "        triple.append(org_images[i])\n",
        "        triple.append(x_adv.detach().clone().squeeze_(0))\n",
        "        triple=torch.stack(triple)\n",
        "        grid = torchvision.utils.make_grid(triple.cpu()/2+0.5)\n",
        "        plt.figure(figsize=(10,10))\n",
        "        plt.imshow(grid.numpy().transpose((1, 2, 0)))\n",
        "        plt.axis('off')\n",
        "        plt.show()\n",
        "\n",
        "    "
      ]
    },
    {
      "cell_type": "markdown",
      "metadata": {
        "id": "TioJJyM4UpOS"
      },
      "source": [
        "**As you can see, the original and adversarial examples look extremely similar to the human eye.**"
      ]
    },
    {
      "cell_type": "markdown",
      "metadata": {
        "id": "Ka-hwda0mxp7"
      },
      "source": [
        "### Adversarial Training with FGSM"
      ]
    },
    {
      "cell_type": "markdown",
      "metadata": {
        "id": "R2JDgAWpVY9S"
      },
      "source": [
        "First, we should build a new model (which we call net_adv) to train on adversarial examples generated by the FGSM attack."
      ]
    },
    {
      "cell_type": "code",
      "execution_count": null,
      "metadata": {
        "colab": {
          "base_uri": "https://localhost:8080/"
        },
        "id": "YxZI0A2fvq9-",
        "outputId": "d1af3d58-437d-4c03-f336-67ae978fd234"
      },
      "outputs": [
        {
          "name": "stdout",
          "output_type": "stream",
          "text": [
            "==> Building new model..\n"
          ]
        }
      ],
      "source": [
        "print('==> Building new model..')\n",
        "net_adv = ResNet18()\n",
        "net_adv = net_adv.to(device)\n",
        "if device == 'cuda':\n",
        "    net_adv = torch.nn.DataParallel(net_adv)\n",
        "    cudnn.benchmark = True\n",
        "\n",
        "criterion = nn.CrossEntropyLoss()\n",
        "optimizer_adv = optim.SGD(net_adv.parameters(), lr=lr,\n",
        "                      momentum=0.9, weight_decay=5e-4)\n",
        "scheduler_adv = torch.optim.lr_scheduler.CosineAnnealingLR(optimizer_adv, T_max=200)\n"
      ]
    },
    {
      "cell_type": "markdown",
      "metadata": {
        "id": "zVx_-puKWbgG"
      },
      "source": [
        "Train_adv function trains a given neural network on adversarial examples generated from training data using the FGSM attack.\n",
        "\n"
      ]
    },
    {
      "cell_type": "code",
      "execution_count": null,
      "metadata": {
        "id": "MqVHCoXHTTwd"
      },
      "outputs": [],
      "source": [
        "def train_adv(epoch, net):\n",
        "    net.train()\n",
        "    train_loss = 0\n",
        "    correct = 0\n",
        "    total = 0\n",
        "    eps=8/255\n",
        "    for batch_idx, (inputs, targets) in enumerate(trainloader):\n",
        "        inputs, targets = inputs.to(device), targets.to(device)\n",
        "\n",
        "        inputs_ = Variable(inputs.data, requires_grad=True)\n",
        "        h_ = net(inputs_)\n",
        "\n",
        "        cost = criterion(h_, targets)\n",
        "\n",
        "        net.zero_grad()\n",
        "        cost.backward()\n",
        "\n",
        "        pert= eps*inputs_.grad.detach().sign()\n",
        "        x_adv = inputs_ + pert\n",
        "\n",
        "        optimizer_adv.zero_grad()\n",
        "        outputs = net(x_adv)\n",
        "        loss = criterion(outputs, targets)\n",
        "        loss.backward()\n",
        "        optimizer_adv.step()\n",
        "\n",
        "        train_loss += loss.item()\n",
        "        _, predicted = outputs.max(1)\n",
        "        total += targets.size(0)\n",
        "        correct += predicted.eq(targets).sum().item()\n",
        "    return train_loss/len(trainloader)"
      ]
    },
    {
      "cell_type": "code",
      "execution_count": null,
      "metadata": {
        "id": "gf_KbTHqK-Ah"
      },
      "outputs": [],
      "source": [
        "train_losses_adv=[]\n",
        "test_losses_adv=[]\n",
        "epochs=40\n",
        "\n",
        "for epoch in range(0,epochs):\n",
        "    train_losses_adv.append(train_adv(epoch, net_adv))\n",
        "    test_losses_adv.append(test(epoch, net_adv))\n",
        "    scheduler_adv.step()"
      ]
    },
    {
      "cell_type": "code",
      "execution_count": null,
      "metadata": {
        "colab": {
          "base_uri": "https://localhost:8080/"
        },
        "id": "qWFm0wigDxjE",
        "outputId": "18725ad1-e7c8-44bd-8f0f-16e98a3a71c7"
      },
      "outputs": [
        {
          "name": "stdout",
          "output_type": "stream",
          "text": [
            "Accuracy of the network on unperturbed test images: 88 %\n"
          ]
        }
      ],
      "source": [
        "print('Accuracy of the network on unperturbed test images: %d %%' % (acc))"
      ]
    },
    {
      "cell_type": "markdown",
      "metadata": {
        "id": "rvlURfU-pYNj"
      },
      "source": [
        "#### Comparing naturally-trained and adversarially-trained models"
      ]
    },
    {
      "cell_type": "markdown",
      "metadata": {
        "id": "6LJl5N4AZntq"
      },
      "source": [
        "Train - natural: training loss of the naturally-trained model\n",
        "\n",
        "Train - adversary: training loss of the adversarially-trained model\n",
        "\n",
        "Test - natural:  loss of the naturally-trained model on original (unperturbed) test images\n",
        "\n",
        "Test - adversary: loss of the adversarially-trained model on original (unperturbed) test images"
      ]
    },
    {
      "cell_type": "code",
      "execution_count": null,
      "metadata": {
        "colab": {
          "base_uri": "https://localhost:8080/",
          "height": 265
        },
        "id": "pllouoyupfZm",
        "outputId": "00bb0cc0-47f9-4b77-ac1f-a32d95e5147c"
      },
      "outputs": [
        {
          "data": {
            "image/png": "[encoded data removed]",
            "text/plain": [
              "<Figure size 432x288 with 1 Axes>"
            ]
          },
          "metadata": {
            "needs_background": "light"
          },
          "output_type": "display_data"
        }
      ],
      "source": [
        "plt.plot(np.arange(1,epochs+1),train_losses, label='train - natural')\n",
        "plt.plot(np.arange(1,epochs+1), test_losses, label='test - natural')\n",
        "plt.plot(np.arange(1,epochs+1),train_losses_adv, label='train - adversary')\n",
        "plt.plot(np.arange(1,epochs+1), test_losses_adv, label='test - adversary')\n",
        "plt.xlabel('epochs')\n",
        "plt.ylabel('losses')\n",
        "plt.legend()\n",
        "plt.show()"
      ]
    },
    {
      "cell_type": "markdown",
      "metadata": {
        "id": "nTlRyE7upwiY"
      },
      "source": [
        "Training losses of the adversarially-trained model are higher than training losses of the naturally-trained model, which is intuitive since the adversarially-trained model is trained against adversarial examples, which makes it harder for the model to label these perturbed inputs correctly and results in higher errors.\n",
        "\n",
        "The loss of the naturally-trained model on test data is higher than the training loss, since test data is unseen by the model, resulting in higher error in classification.\n",
        "\n",
        "However, the loss of the adversarially-trained model on test data is lower than the corresponding training loss. This is probably because the test instances are not adversarial (in contrast to training data) and that the model has learned to extract important and useful features, thus performing better on test images."
      ]
    },
    {
      "cell_type": "markdown",
      "metadata": {
        "id": "iHPJiYNK1ouR"
      },
      "source": [
        "####Evaluating the adversarially-trained model with FGSM against FGSM attack on test data\n"
      ]
    },
    {
      "cell_type": "markdown",
      "metadata": {
        "id": "D4NEhuRKbErX"
      },
      "source": [
        "Test_adv function constructs adversarial examples from test data (with FGSM using net) and evaluates net_adv on them."
      ]
    },
    {
      "cell_type": "code",
      "execution_count": null,
      "metadata": {
        "id": "0PL1wYGTwBM-"
      },
      "outputs": [],
      "source": [
        "def test_adv(net, net_adv, eps):\n",
        "    accuracy=0\n",
        "    net.train()\n",
        "    net_adv.eval()\n",
        "    test_loss = 0\n",
        "    correct = 0\n",
        "    total = 0\n",
        "    for batch_idx, (inputs, targets) in enumerate(testloader):\n",
        "        inputs, targets = inputs.to(device), targets.to(device)\n",
        "\n",
        "        x_adv, h_adv, y_adv, pert = FGSM (net, inputs, targets, eps)\n",
        "            \n",
        "        outputs = net_adv(x_adv)\n",
        "        loss = criterion(outputs, targets)\n",
        "\n",
        "        test_loss += loss.item()\n",
        "        _, predicted = outputs.max(1)\n",
        "        total += targets.size(0)\n",
        "        correct += predicted.eq(targets).sum().item()\n",
        "    accuracy = 100 * correct / total\n",
        "    return accuracy"
      ]
    },
    {
      "cell_type": "code",
      "execution_count": null,
      "metadata": {
        "colab": {
          "base_uri": "https://localhost:8080/"
        },
        "id": "ucGMwpoIwBPJ",
        "outputId": "da3f0c5a-dd21-49f7-ea53-b17b8fe1e8cf"
      },
      "outputs": [
        {
          "name": "stdout",
          "output_type": "stream",
          "text": [
            "epsilon: 0.011267605633802818 accuracy: 88.05\n",
            "epsilon: 0.03137254901960784 accuracy: 87.47\n",
            "epsilon: 0.047058823529411764 accuracy: 86.94\n"
          ]
        }
      ],
      "source": [
        "for eps in [4/355, 8/255, 12/255]:\n",
        "    accuracy=test_adv(net, net_adv, eps)\n",
        "    print(\"epsilon:\", eps, \"accuracy:\", accuracy)"
      ]
    },
    {
      "cell_type": "markdown",
      "metadata": {
        "id": "BdF1481sHbd-"
      },
      "source": [
        "We see that **as epsilon increases, the accuracy decreases**, since for bigger epsilons, greater perturbations are allowed, therefore it becomes harder for the model to correctly label those perturbed examples."
      ]
    },
    {
      "cell_type": "code",
      "execution_count": null,
      "metadata": {},
      "outputs": [],
      "source": [
        "# # Save the model parameters\n",
        "# torch.save(net_adv.state_dict(), 'resnet18_cifar10_fgsmTraining.pth')"
      ]
    },
    {
      "cell_type": "markdown",
      "metadata": {
        "id": "szrdxreF26jQ"
      },
      "source": [
        "### Targeted FGSM"
      ]
    },
    {
      "cell_type": "markdown",
      "metadata": {
        "id": "8mssoOlWs-k6"
      },
      "source": [
        "In targeted attacks, we want the model to misclassify its input to the given target class. Therefore, instead of just maximizing the loss of the true label, we maximize the loss of the true label and minimize the loss for the alternative label."
      ]
    },
    {
      "cell_type": "code",
      "execution_count": null,
      "metadata": {
        "id": "3uTt1l2XwvH1"
      },
      "outputs": [],
      "source": [
        "# def FGSM_targeted(net,x,y,t,eps):\n",
        "#         '''\n",
        "#         inputs:\n",
        "#             net: the neural network through which we pass the input\n",
        "#             x: the original example which we aim to perturb to make an adversarial example\n",
        "#             y: the true label of x\n",
        "#             t: target label\n",
        "#             eps: perturbation budget\n",
        "\n",
        "#         outputs:\n",
        "#             x_adv : the adversarial example constructed from x\n",
        "#             h_adv: output of the last softmax layer when applying net on x_adv \n",
        "#             y_adv: predicted label for x_adv\n",
        "#             pert: perturbation applied to x (x_adv - x)\n",
        "#         '''\n",
        "        \n",
        "#         x_ = Variable(x.data, requires_grad=True)\n",
        "#         h_ = net(x_)\n",
        "#         criterion= torch.nn.CrossEntropyLoss()\n",
        "#         cost = criterion(h_, y)-criterion(h_,t)\n",
        "#         net.zero_grad()\n",
        "#         cost.backward()\n",
        "\n",
        "#         #perturbation\n",
        "#         pert= eps*x_.grad.detach().sign()\n",
        "        \n",
        "#         x_adv = x_ + pert\n",
        "\n",
        "#         h_adv = net(x_adv)\n",
        "#         _,y_adv=torch.max(h_adv.data,1)\n",
        "#         return x_adv, h_adv, y_adv, pert  "
      ]
    },
    {
      "cell_type": "markdown",
      "metadata": {
        "id": "wbaJ_huqhnzm"
      },
      "source": [
        "###An example\n",
        "First, for each example, take as the target class the one having the highest probability in the probability output vector (if it is the same as the true label, choose the class with second-highest probability) and second, take as the target class the one having the lowest probability in the probability output vector (again if it the same as the true label, choose the class with second-lowest probability) and generate adversarial examples using a targeted attack. Compare the accuracy of the adversarially-trained model and naturally-trained model on these examples."
      ]
    },
    {
      "cell_type": "code",
      "execution_count": null,
      "metadata": {
        "id": "9Js20hjhyZN4"
      },
      "outputs": [],
      "source": [
        "# def test_adv_targ(net,model,eps,mode='largest_prob'):\n",
        "#     acc=0\n",
        "#     net.train()\n",
        "#     model.eval()\n",
        "#     test_loss = 0\n",
        "#     correct = 0\n",
        "#     total = 0\n",
        "\n",
        "#     for batch_idx, (inputs, targets) in enumerate(testloader):\n",
        "#         inputs, targets = inputs.to(device), targets.to(device)\n",
        "#         if mode=='largest_prob':\n",
        "#             out=net(inputs)\n",
        "#             _,largest=torch.kthvalue(out,10,1)\n",
        "#             _,second_largest=torch.kthvalue(out,9,1)\n",
        "#             condition=largest-targets\n",
        "#             target_adv=torch.where(condition==0,second_largest, largest)\n",
        "#         else:\n",
        "#             out=net(inputs)\n",
        "#             _,smallest=torch.kthvalue(out,1,1)\n",
        "#             _,second_smallest=torch.kthvalue(out,2,1)\n",
        "#             condition=smallest-targets\n",
        "#             target_adv=torch.where(condition==0,second_smallest, smallest)\n",
        "\n",
        "#         x_adv, h_adv, y_adv, pert =FGSM_targeted(net,inputs,targets,target_adv,eps)\n",
        "\n",
        "#         with torch.no_grad():\n",
        "#                 outputs = model(x_adv)\n",
        "#                 loss = criterion(outputs, targets)\n",
        "#                 test_loss += loss.item()\n",
        "#                 _, predicted = outputs.max(1)\n",
        "#                 total += targets.size(0)\n",
        "#                 correct += predicted.eq(targets).sum().item()\n",
        "#     acc = 100 * correct / total\n",
        "#     return acc"
      ]
    },
    {
      "cell_type": "markdown",
      "metadata": {
        "id": "7T7oPgC_-Yky"
      },
      "source": [
        "####Class with the **Largest** probability (other than the true class) as the target class for FGSM-targeted attack"
      ]
    },
    {
      "cell_type": "code",
      "execution_count": null,
      "metadata": {
        "colab": {
          "base_uri": "https://localhost:8080/"
        },
        "id": "L0sTl20P0LhW",
        "outputId": "98d9ba58-84e9-4b57-c402-d923279f976f"
      },
      "outputs": [
        {
          "name": "stdout",
          "output_type": "stream",
          "text": [
            "accuracy of naturally trained model against FGSM_targeted attack: 29.95\n",
            "accuracy of adversarially trained model against FGSM_targeted attack: 87.07\n"
          ]
        }
      ],
      "source": [
        "# eps=8/255\n",
        "# acc1=test_adv_targ(net,net,eps)\n",
        "# acc2=test_adv_targ(net,net_adv,eps)\n",
        "# print(\"accuracy of naturally trained model against FGSM_targeted attack:\",acc1)\n",
        "# print(\"accuracy of adversarially trained model against FGSM_targeted attack:\",acc2)\n"
      ]
    },
    {
      "cell_type": "markdown",
      "metadata": {
        "id": "A89JCuDA-u-D"
      },
      "source": [
        "#### Class with the **Lowest** probability (other than the true class) as the target class for FGSM-targeted attack"
      ]
    },
    {
      "cell_type": "code",
      "execution_count": null,
      "metadata": {
        "colab": {
          "base_uri": "https://localhost:8080/"
        },
        "id": "hXsV64ID-xba",
        "outputId": "e31eceef-e999-48c5-a21e-a7fc500ff831"
      },
      "outputs": [
        {
          "name": "stdout",
          "output_type": "stream",
          "text": [
            "accuracy of naturally trained model against FGSM_targeted attack: 45.6\n",
            "accuracy of adversarially trained model against FGSM_targeted attack: 87.22\n"
          ]
        }
      ],
      "source": [
        "# eps=8/255\n",
        "# acc1=test_adv_targ(net,net,eps, mode='smallest_prob')\n",
        "# acc2=test_adv_targ(net,net_adv,eps, mode='smallest_prob')\n",
        "# print(\"accuracy of naturally trained model against FGSM_targeted attack:\",acc1)\n",
        "# print(\"accuracy of adversarially trained model against FGSM_targeted attack:\",acc2)\n"
      ]
    },
    {
      "cell_type": "markdown",
      "metadata": {
        "id": "3cICjtTM_GYs"
      },
      "source": [
        "We see that in both cases the accuracy of the adversarially-trained model is much higher than the naturally-trained model since the adversarially-trained model has become more robust and therefore has higher accuracy against adversarial examples."
      ]
    },
    {
      "cell_type": "markdown",
      "metadata": {
        "id": "CHJ_LBfV2nY6"
      },
      "source": [
        "## PGD\n",
        " In the PGD attack, we repeat $\n",
        "\\delta:=\\mathcal{P}(\\delta+\\alpha \\nabla_{\\delta} l(\\theta, x, y))\n",
        "$\n",
        "for $t$ iterations."
      ]
    },
    {
      "cell_type": "markdown",
      "metadata": {
        "id": "DQQCz90-ZNz-"
      },
      "source": [
        "### PGD attack function"
      ]
    },
    {
      "cell_type": "code",
      "execution_count": null,
      "metadata": {
        "id": "i54wfUt82msX"
      },
      "outputs": [],
      "source": [
        "def PGD(net,x,y,alpha,epsilon,iter):\n",
        "    '''\n",
        "    inputs:\n",
        "        net: the network through which we pass the inputs\n",
        "        x: the original example which we aim to perturb to make an adversarial example\n",
        "        y: the true label of x\n",
        "        alpha: step size\n",
        "        epsilon: perturbation budget \n",
        "        iter: number of iterations in the PGD algorithm\n",
        "\n",
        "    outputs:\n",
        "        x_adv : the adversarial example constructed from x\n",
        "        h_adv: output of the last softmax layer when applying net on x_adv \n",
        "        y_adv: predicted label for x_adv\n",
        "        pert: perturbation applied to x (x_adv - x)\n",
        "    '''\n",
        "\n",
        "    delta = torch.zeros_like(x, requires_grad=True)\n",
        "    for i in range(iter):\n",
        "        criterion=nn.CrossEntropyLoss()\n",
        "        loss = criterion(net(x + delta), y)\n",
        "        loss.backward()\n",
        "        delta.data = (delta + x.shape[0]*alpha*delta.grad.data).clamp(-epsilon,epsilon)\n",
        "        delta.grad.zero_()\n",
        "    pert = delta.detach()\n",
        "    x_adv = x + pert\n",
        "    h_adv = net(x_adv)\n",
        "    _,y_adv = torch.max(h_adv.data,1)\n",
        "    return x_adv, h_adv, y_adv, pert"
      ]
    },
    {
      "cell_type": "markdown",
      "metadata": {
        "id": "a7S2kPZ5M_WQ"
      },
      "source": [
        "### Adversarial Training with PGD"
      ]
    },
    {
      "cell_type": "markdown",
      "metadata": {
        "id": "Xq1vilV6YTUl"
      },
      "source": [
        "First, we should build a new model (which we call net_pgd) to train on adversarial examples generated by the PGD attack."
      ]
    },
    {
      "cell_type": "code",
      "execution_count": null,
      "metadata": {
        "colab": {
          "base_uri": "https://localhost:8080/"
        },
        "id": "AZIcPOdlNlex",
        "outputId": "5f7a3faa-6201-478a-ef34-f9e86a13b714"
      },
      "outputs": [
        {
          "name": "stdout",
          "output_type": "stream",
          "text": [
            "==> Building new model..\n"
          ]
        }
      ],
      "source": [
        "print('==> Building new model..')\n",
        "net_pgd = ResNet18()\n",
        "net_pgd = net_pgd.to(device)\n",
        "if device == 'cuda':\n",
        "    net_pgd = torch.nn.DataParallel(net_pgd)\n",
        "    cudnn.benchmark = True\n",
        "\n",
        "criterion = nn.CrossEntropyLoss()\n",
        "optimizer_pgd = optim.SGD(net_pgd.parameters(), lr=lr,\n",
        "                      momentum=0.9, weight_decay=5e-4)\n",
        "scheduler_pgd = torch.optim.lr_scheduler.CosineAnnealingLR(optimizer_pgd, T_max=200)\n"
      ]
    },
    {
      "cell_type": "markdown",
      "metadata": {
        "id": "JjwbWRhjYwR2"
      },
      "source": [
        "Train_pgd function trains a given neural network on adversarial examples generated from training data using the PGD attack.\n"
      ]
    },
    {
      "cell_type": "code",
      "execution_count": null,
      "metadata": {
        "id": "VdyrtMvYKtY8"
      },
      "outputs": [],
      "source": [
        "def train_pgd(epoch, net, alpha, epsilon, iter):\n",
        "    \n",
        "    net.train()\n",
        "    train_loss = 0\n",
        "    correct = 0\n",
        "    total = 0\n",
        "    eps=8/255\n",
        "    for batch_idx, (inputs, targets) in enumerate(trainloader):\n",
        "        inputs, targets = inputs.to(device), targets.to(device)\n",
        "\n",
        "        x_adv,_,_,_ = PGD(net,inputs,targets,alpha,epsilon,iter)\n",
        "\n",
        "        optimizer_pgd.zero_grad()\n",
        "        outputs = net(x_adv)\n",
        "        loss = criterion(outputs, targets)\n",
        "        loss.backward()\n",
        "        optimizer_pgd.step()\n",
        "\n",
        "        train_loss += loss.item()\n",
        "        _, predicted = outputs.max(1)\n",
        "        total += targets.size(0)\n",
        "        correct += predicted.eq(targets).sum().item()\n",
        "    return train_loss/len(trainloader)"
      ]
    },
    {
      "cell_type": "code",
      "execution_count": null,
      "metadata": {
        "id": "fQCHM6EnLDmt"
      },
      "outputs": [],
      "source": [
        "train_losses_pgd=[]\n",
        "test_losses_pgd=[]\n",
        "epochs=40\n",
        "alpha=3/255\n",
        "epsilon=8/255\n",
        "iter=20\n",
        "for epoch in range(0,epochs):\n",
        "    train_losses_pgd.append(train_pgd(epoch, net_pgd, alpha, epsilon, iter))\n",
        "    test_losses_pgd.append(test(epoch, net_pgd))\n",
        "    scheduler_pgd.step()"
      ]
    },
    {
      "cell_type": "code",
      "execution_count": null,
      "metadata": {
        "colab": {
          "base_uri": "https://localhost:8080/"
        },
        "id": "mhhT4uyl_xtj",
        "outputId": "14f8aaac-64be-47f8-e7a4-82d4e4eab749"
      },
      "outputs": [
        {
          "name": "stdout",
          "output_type": "stream",
          "text": [
            "Accuracy of the network on the test images: 91 %\n"
          ]
        }
      ],
      "source": [
        "print('Accuracy of the network on the test images: %d %%' % (acc))"
      ]
    },
    {
      "cell_type": "code",
      "execution_count": null,
      "metadata": {
        "colab": {
          "base_uri": "https://localhost:8080/",
          "height": 281
        },
        "id": "Z94DHkDLEf_g",
        "outputId": "9e774661-98ad-4e19-ff5e-1467f06b7238"
      },
      "outputs": [
        {
          "data": {
            "image/png": "[encoded data removed]",
            "text/plain": [
              "<Figure size 432x288 with 1 Axes>"
            ]
          },
          "metadata": {
            "needs_background": "light"
          },
          "output_type": "display_data"
        }
      ],
      "source": [
        "epochs=40\n",
        "plt.plot(np.arange(1,epochs+1),train_losses_pgd, label='train losses')\n",
        "plt.plot(np.arange(1,epochs+1), test_losses_pgd, label='test losses')\n",
        "plt.xlabel('epochs')\n",
        "plt.ylabel('losses')\n",
        "plt.title('adversarially trained model with PGD attack')\n",
        "plt.legend()\n",
        "plt.show()"
      ]
    },
    {
      "cell_type": "markdown",
      "metadata": {
        "id": "CWppiwM1y6Qy"
      },
      "source": [
        "Comparing to previous plots:"
      ]
    },
    {
      "cell_type": "code",
      "execution_count": null,
      "metadata": {
        "colab": {
          "base_uri": "https://localhost:8080/",
          "height": 265
        },
        "id": "Cyb9UGdkdfat",
        "outputId": "e35fd372-30d1-4aea-ea49-0e298951e134"
      },
      "outputs": [
        {
          "data": {
            "image/png": "[encoded data removed]",
            "text/plain": [
              "<Figure size 432x288 with 1 Axes>"
            ]
          },
          "metadata": {
            "needs_background": "light"
          },
          "output_type": "display_data"
        }
      ],
      "source": [
        "epochs=40\n",
        "plt.plot(np.arange(1,epochs+1),train_losses, label='train - natural')\n",
        "plt.plot(np.arange(1,epochs+1), test_losses, label='test - natural')\n",
        "plt.plot(np.arange(1,epochs+1),train_losses_adv, label='train - adversary - FGSM')\n",
        "plt.plot(np.arange(1,epochs+1), test_losses_adv, label='test - adversary - FGSM')\n",
        "plt.plot(np.arange(1,epochs+1),train_losses_pgd, label='train - adversary - PGD')\n",
        "plt.plot(np.arange(1,epochs+1), test_losses_pgd, label='test - adversary - PGD')\n",
        "plt.xlabel('epochs')\n",
        "plt.ylabel('losses')\n",
        "plt.legend()\n",
        "plt.show()"
      ]
    },
    {
      "cell_type": "markdown",
      "metadata": {
        "id": "0IHWW9IJaLX7"
      },
      "source": [
        "Train - natural: training loss of the naturally-trained model\n",
        "\n",
        "Train - adversary - FGSM: training loss of the adversarially-trained model (on examples generated with FGSM)\n",
        "\n",
        "Train - adversary - PGD: training loss of the adversarially-trained model (on examples generated with PGD)\n",
        "\n",
        "Test - natural: loss of the naturally-trained model on original (unperturbed) test images\n",
        "\n",
        "Test - adversary - FGSM: loss of the adversarially-trained model(on examples generated with FGSM) on original (unperturbed) test images\n",
        "\n",
        "Test - adversary - PGD: loss of the adversarially-trained model(on examples generated with PGD) on original (unperturbed) test images"
      ]
    },
    {
      "cell_type": "markdown",
      "metadata": {
        "id": "HGu4lWlozSq8"
      },
      "source": [
        "### Evaluating the adversarially-trained model with PGD against PGD attack on test data"
      ]
    },
    {
      "cell_type": "markdown",
      "metadata": {
        "id": "UP45sxjJcvdz"
      },
      "source": [
        "Test_PGD function constructs adversarial examples from test data (with PGD using net) and evaluates net_pgd on them.\n",
        "\n"
      ]
    },
    {
      "cell_type": "code",
      "execution_count": null,
      "metadata": {
        "id": "14ySiBWJLsVe"
      },
      "outputs": [],
      "source": [
        "def test_PGD(net,net_pgd,alpha,eps,iter):\n",
        "    acc=0\n",
        "    net.train()\n",
        "    net_pgd.eval()\n",
        "    test_loss = 0\n",
        "    correct = 0\n",
        "    total = 0\n",
        "    for batch_idx, (inputs, targets) in enumerate(testloader):\n",
        "            inputs, targets = inputs.to(device), targets.to(device)\n",
        "            x_adv,_,_,_=PGD(net,inputs,targets,alpha,eps,iter)\n",
        "\n",
        "            with torch.no_grad():\n",
        "                outputs = net_pgd(x_adv)\n",
        "                loss = criterion(outputs, targets)\n",
        "\n",
        "                test_loss += loss.item()\n",
        "                _, predicted = outputs.max(1)\n",
        "                total += targets.size(0)\n",
        "                correct += predicted.eq(targets).sum().item()\n",
        "    acc = 100 * correct / total\n",
        "    return acc"
      ]
    },
    {
      "cell_type": "code",
      "execution_count": null,
      "metadata": {
        "colab": {
          "base_uri": "https://localhost:8080/"
        },
        "id": "MAhysC2TEgKf",
        "outputId": "444f38aa-ec21-4dfd-d59a-12da47a44ef3"
      },
      "outputs": [
        {
          "name": "stdout",
          "output_type": "stream",
          "text": [
            "accuracy of net_pgd against PGD attack with iters= 3 :  90.24\n",
            "accuracy of net_pgd against PGD attack with iters= 7 :  88.87\n",
            "accuracy of net_pgd against PGD attack with iters= 12 :  87.76\n"
          ]
        }
      ],
      "source": [
        "alpha=3/255\n",
        "eps=8/255\n",
        "acc1_pgd=[]\n",
        "for iter in [7,12,20]:\n",
        "    acc=test_PGD(net,net_pgd,alpha,eps,iter)\n",
        "    print(\"accuracy of net_pgd against PGD attack with iters=\",iter,\": \",acc)"
      ]
    },
    {
      "cell_type": "markdown",
      "metadata": {
        "id": "AjHBn8je7UQe"
      },
      "source": [
        "We see that as the iterations increase, the accuracy decreases. The reason is, as the number of iterations increases, the PGD function produces stronger attacks which make it harder for the model to label them correctly. Therefore, the accuracy of the model decreases."
      ]
    },
    {
      "cell_type": "markdown",
      "metadata": {
        "id": "jI08K_DWapQu"
      },
      "source": [
        "Moreover, as net_pgd was trained on adversary examples produced using PGD attack with 3 iterations, it has a good performance (90%) on similar examples, i.e. for iter=3. However, its accuracy drops against PGD attacks with higher iterations (7 and 12). This is probably because net_pgd was trained with PGD-3 (iter=3) and it is more difficult for it to defend against PGD with 2 or 4 times more iterations."
      ]
    },
    {
      "cell_type": "code",
      "execution_count": null,
      "metadata": {},
      "outputs": [],
      "source": [
        "# Save the model parameters\n",
        "torch.save(net_pgd.state_dict(), 'resnet18_cifar10_pgdTraining_iter20.pth')"
      ]
    }
  ],
  "metadata": {
    "accelerator": "GPU",
    "colab": {
      "collapsed_sections": [],
      "name": "FGSM and PDG attacks release version.ipynb",
      "provenance": [],
      "toc_visible": true
    },
    "kernelspec": {
      "display_name": "Python 3",
      "language": "python",
      "name": "python3"
    },
    "language_info": {
      "codemirror_mode": {
        "name": "ipython",
        "version": 3
      },
      "file_extension": ".py",
      "mimetype": "text/x-python",
      "name": "python",
      "nbconvert_exporter": "python",
      "pygments_lexer": "ipython3",
      "version": "3.9.19"
    }
  },
  "nbformat": 4,
  "nbformat_minor": 0
}
