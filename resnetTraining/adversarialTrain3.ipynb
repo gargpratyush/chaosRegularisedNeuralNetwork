{
  "cells": [
    {
      "cell_type": "markdown",
      "metadata": {
        "id": "oVh6stZmm4FI"
      },
      "source": [
        "# Adversarial Training on CIFAR-10 with FGSM attacks"
      ]
    },
    {
      "cell_type": "markdown",
      "metadata": {
        "id": "VFC26E3Zsh1L"
      },
      "source": [
        "In this notebook, we perform FGSM (targeted and non-targeted) attacks on the CIFAR-10 dataset using the Resnet18 model and build models to defend against these attacks using the Adversarial Training mechanism."
      ]
    },
    {
      "cell_type": "markdown",
      "metadata": {
        "id": "lKBjLFN8W9Yl"
      },
      "source": [
        "## Table of contents\n",
        "*  **Preparing train and test data and building Resnet model**\n",
        "\n",
        "    -  Training function\n",
        "\n",
        "    -  Test function\n",
        "\n",
        "    -  Trainig and test loss of Resnet18 model on Cifar-10\n",
        "\n",
        "\n",
        "*  **FGSM**\n",
        "\n",
        "    - Visualizing 10 selected samples from the dataset\n",
        "\n",
        "    - FGSM attack function\n",
        "\n",
        "    -  Creating adversarial examples from samples with the FGSM attack and eps = 1/255\n",
        "\n",
        "    -  Adversarial Training with FGSM\n",
        "\n",
        "    - Comparing naturally-trained and adversarially-trained models\n",
        "\n",
        "    - Evaluating the adversarially-trained model with FGSM against FGSM attack on test data\n",
        "\n",
        "    - Targeted FGSM\n"
      ]
    },
    {
      "cell_type": "code",
      "execution_count": null,
      "metadata": {
        "colab": {
          "base_uri": "https://localhost:8080/"
        },
        "id": "FP0_yWoqC8ML",
        "outputId": "315a0247-f744-413a-e399-99a699586e70"
      },
      "outputs": [
        {
          "name": "stdout",
          "output_type": "stream",
          "text": [
            "Mounted at /content/drive\n"
          ]
        }
      ],
      "source": [
        "# from google.colab import drive\n",
        "# drive.mount('/content/drive')"
      ]
    },
    {
      "cell_type": "code",
      "execution_count": null,
      "metadata": {
        "colab": {
          "base_uri": "https://localhost:8080/"
        },
        "id": "z2LJXKleQ3ht",
        "outputId": "13d20f69-73f1-45b7-9ad9-aa2cf9ce43c0"
      },
      "outputs": [
        {
          "name": "stdout",
          "output_type": "stream",
          "text": [
            "/content\n"
          ]
        }
      ],
      "source": [
        "# import os\n",
        "# print(os.getcwd())\n"
      ]
    },
    {
      "cell_type": "code",
      "execution_count": null,
      "metadata": {
        "id": "Y11-krvmQ3YR"
      },
      "outputs": [],
      "source": [
        "# desired_directory = '/content/drive/MyDrive/Submission-TUDresden-PratyushGarg' #change this to the location where 'resnet.py' file is located\n",
        "# os.chdir(desired_directory)"
      ]
    },
    {
      "cell_type": "code",
      "execution_count": null,
      "metadata": {
        "id": "ldHmoyhvUvhX"
      },
      "outputs": [],
      "source": [
        "import torch\n",
        "import torch.nn as nn\n",
        "import torch.optim as optim\n",
        "import torch.nn.functional as F\n",
        "import torch.backends.cudnn as cudnn\n",
        "from torch.autograd import *\n",
        "\n",
        "import torchvision\n",
        "import torchvision.transforms as transforms\n",
        "\n",
        "import os\n",
        "import argparse\n",
        "import matplotlib.pyplot as plt\n",
        "import numpy as np\n",
        "\n",
        "from resnet import *\n",
        "\n",
        "import pickle\n"
      ]
    },
    {
      "cell_type": "code",
      "execution_count": null,
      "metadata": {
        "id": "kMJqAx798x5c"
      },
      "outputs": [],
      "source": [
        "device = 'cuda' if torch.cuda.is_available() else 'cpu'\n",
        "lr = 0.01"
      ]
    },
    {
      "cell_type": "markdown",
      "metadata": {
        "id": "q6rG9cl3RbfJ"
      },
      "source": [
        "<a name='name'></a>\n",
        "### Preparing train and test data and building Resnet model"
      ]
    },
    {
      "cell_type": "code",
      "execution_count": null,
      "metadata": {
        "colab": {
          "base_uri": "https://localhost:8080/"
        },
        "id": "pBNfOkMr92S3",
        "outputId": "680f5570-fcf3-41a9-d43b-aecdf0b9edf2"
      },
      "outputs": [
        {
          "name": "stdout",
          "output_type": "stream",
          "text": [
            "==> Preparing data..\n",
            "Files already downloaded and verified\n",
            "Files already downloaded and verified\n",
            "==> Building model..\n"
          ]
        }
      ],
      "source": [
        "print('==> Preparing data..')\n",
        "transform_train = transforms.Compose([\n",
        "    transforms.RandomCrop(32, padding=4),\n",
        "    transforms.RandomHorizontalFlip(),\n",
        "    transforms.ToTensor(),\n",
        "    transforms.Normalize((0.4914, 0.4822, 0.4465), (0.2023, 0.1994, 0.2010)),\n",
        "])\n",
        "\n",
        "transform_test = transforms.Compose([\n",
        "    transforms.ToTensor(),\n",
        "    transforms.Normalize((0.4914, 0.4822, 0.4465), (0.2023, 0.1994, 0.2010)),\n",
        "])\n",
        "\n",
        "trainset = torchvision.datasets.CIFAR10(\n",
        "    root='./data', train=True, download=True, transform=transform_train)\n",
        "trainloader = torch.utils.data.DataLoader(\n",
        "    trainset, batch_size=128, shuffle=True, num_workers=2)\n",
        "\n",
        "testset = torchvision.datasets.CIFAR10(\n",
        "    root='./data', train=False, download=True, transform=transform_test)\n",
        "testloader = torch.utils.data.DataLoader(\n",
        "    testset, batch_size=100, shuffle=False, num_workers=2)\n",
        "\n",
        "classes = ('plane', 'car', 'bird', 'cat', 'deer',\n",
        "           'dog', 'frog', 'horse', 'ship', 'truck')\n",
        "\n",
        "# Model\n",
        "print('==> Building model..')\n",
        "net = ResNet18()\n",
        "net = net.to(device)\n",
        "if device == 'cuda':\n",
        "    net = torch.nn.DataParallel(net)\n",
        "    cudnn.benchmark = True\n",
        "\n",
        "criterion = nn.CrossEntropyLoss()\n",
        "optimizer = optim.SGD(net.parameters(), lr=lr,\n",
        "                      momentum=0.9, weight_decay=5e-4)\n",
        "scheduler = torch.optim.lr_scheduler.CosineAnnealingLR(optimizer, T_max=200)\n"
      ]
    },
    {
      "cell_type": "markdown",
      "metadata": {
        "id": "m_8ZibSM89TE"
      },
      "source": [
        "### Training function"
      ]
    },
    {
      "cell_type": "code",
      "execution_count": null,
      "metadata": {
        "id": "OOLoVjk087ek"
      },
      "outputs": [],
      "source": [
        "def train(epoch, net):\n",
        "\n",
        "    '''\n",
        "    this function train net on training dataset\n",
        "    '''\n",
        "\n",
        "    net.train()\n",
        "    train_loss = 0\n",
        "    correct = 0\n",
        "    total = 0\n",
        "    for batch_idx, (inputs, targets) in enumerate(trainloader):\n",
        "        inputs, targets = inputs.to(device), targets.to(device)\n",
        "        optimizer.zero_grad()\n",
        "        outputs = net(inputs)\n",
        "        loss = criterion(outputs, targets)\n",
        "        loss.backward()\n",
        "        optimizer.step()\n",
        "\n",
        "        train_loss += loss.item()\n",
        "        _, predicted = outputs.max(1)\n",
        "        total += targets.size(0)\n",
        "        correct += predicted.eq(targets).sum().item()\n",
        "    return train_loss/len(trainloader)"
      ]
    },
    {
      "cell_type": "markdown",
      "metadata": {
        "id": "FLW2eqqttuMN"
      },
      "source": [
        "### Test function"
      ]
    },
    {
      "cell_type": "code",
      "execution_count": null,
      "metadata": {
        "id": "gVgd8234ttfj"
      },
      "outputs": [],
      "source": [
        "def test(epoch, net):\n",
        "\n",
        "    '''\n",
        "    This function evaluate net on test dataset\n",
        "    '''\n",
        "\n",
        "    global acc\n",
        "    net.eval()\n",
        "    test_loss = 0\n",
        "    correct = 0\n",
        "    total = 0\n",
        "    with torch.no_grad():\n",
        "        for batch_idx, (inputs, targets) in enumerate(testloader):\n",
        "            inputs, targets = inputs.to(device), targets.to(device)\n",
        "            outputs = net(inputs)\n",
        "            loss = criterion(outputs, targets)\n",
        "\n",
        "            test_loss += loss.item()\n",
        "            _, predicted = outputs.max(1)\n",
        "            total += targets.size(0)\n",
        "            correct += predicted.eq(targets).sum().item()\n",
        "    acc = 100 * correct / total\n",
        "    return test_loss/len(testloader)"
      ]
    },
    {
      "cell_type": "code",
      "execution_count": 9,
      "metadata": {
        "colab": {
          "base_uri": "https://localhost:8080/"
        },
        "id": "8Qn-FmGhK1-F",
        "outputId": "ba945a6b-b0b2-470c-e62d-0bc25a3c1464"
      },
      "outputs": [
        {
          "name": "stderr",
          "output_type": "stream",
          "text": [
            "/usr/lib/python3.10/multiprocessing/popen_fork.py:66: RuntimeWarning: os.fork() was called. os.fork() is incompatible with multithreaded code, and JAX is multithreaded, so this will likely lead to a deadlock.\n",
            "  self.pid = os.fork()\n"
          ]
        },
        {
          "name": "stdout",
          "output_type": "stream",
          "text": [
            "0\n",
            "1\n",
            "2\n",
            "3\n",
            "4\n",
            "5\n",
            "6\n",
            "7\n",
            "8\n",
            "9\n",
            "10\n",
            "11\n",
            "12\n",
            "13\n",
            "14\n"
          ]
        }
      ],
      "source": [
        "train_losses=[]\n",
        "test_losses=[]\n",
        "epochs=30\n",
        "\n",
        "for epoch in range(0,epochs):\n",
        "    train_losses.append(train(epoch, net))\n",
        "    test_losses.append(test(epoch, net))\n",
        "    scheduler.step()\n",
        "    print(epoch)"
      ]
    },
    {
      "cell_type": "code",
      "execution_count": 10,
      "metadata": {
        "colab": {
          "base_uri": "https://localhost:8080/"
        },
        "id": "IB9Bli96y1rG",
        "outputId": "18d352fd-2163-4538-d604-6a58ca4441e9"
      },
      "outputs": [
        {
          "name": "stdout",
          "output_type": "stream",
          "text": [
            "Accuracy of the network on the test images: 87 %\n"
          ]
        }
      ],
      "source": [
        "print('Accuracy of the network on the test images: %d %%' % (acc))"
      ]
    },
    {
      "cell_type": "markdown",
      "metadata": {
        "id": "uynnLdqcm3k_"
      },
      "source": [
        "####Training and test loss of Resnet18 model on Cifar-10"
      ]
    },
    {
      "cell_type": "code",
      "execution_count": 11,
      "metadata": {
        "colab": {
          "base_uri": "https://localhost:8080/",
          "height": 449
        },
        "id": "AQ5q3IPr2lxE",
        "outputId": "785c86ac-9111-42e8-b6de-f764e1d30fec"
      },
      "outputs": [
        {
          "data": {
            "image/png": "[encoded data removed]",
            "text/plain": [
              "<Figure size 640x480 with 1 Axes>"
            ]
          },
          "metadata": {},
          "output_type": "display_data"
        }
      ],
      "source": [
        "epochs=15\n",
        "plt.plot(np.arange(1,epochs+1),train_losses, label='train losses')\n",
        "plt.plot(np.arange(1,epochs+1), test_losses, label='test losses')\n",
        "plt.xlabel('epochs')\n",
        "plt.ylabel('losses')\n",
        "plt.legend()\n",
        "plt.show()"
      ]
    },
    {
      "cell_type": "code",
      "execution_count": null,
      "metadata": {},
      "outputs": [],
      "source": [
        "# Save the model parameters\n",
        "torch.save(net.state_dict(), 'resnet18_cifar10.pth')"
      ]
    },
    {
      "cell_type": "markdown",
      "metadata": {
        "id": "YOCf4q-VRW0s"
      },
      "source": [
        "## FGSM"
      ]
    },
    {
      "cell_type": "markdown",
      "metadata": {
        "id": "s29e791J9F0V"
      },
      "source": [
        "### Visualizing 10 selected samples from the dataset"
      ]
    },
    {
      "cell_type": "markdown",
      "metadata": {
        "id": "wVVVLdDSS2LH"
      },
      "source": [
        "We need these samples later to make adversarial examples."
      ]
    },
    {
      "cell_type": "code",
      "execution_count": 12,
      "metadata": {
        "id": "Bsd2s6Kihysc"
      },
      "outputs": [],
      "source": [
        "imgloader = torch.utils.data.DataLoader(\n",
        "    testset, batch_size=100, shuffle=False, num_workers=2)\n",
        "dataiter = iter(imgloader)\n",
        "org_images, org_labels = next(dataiter)"
      ]
    },
    {
      "cell_type": "code",
      "execution_count": 13,
      "metadata": {
        "colab": {
          "base_uri": "https://localhost:8080/"
        },
        "id": "_h4OjoPnFiAA",
        "outputId": "a1760ee7-5919-4012-ade7-27a5cd781bbc"
      },
      "outputs": [
        {
          "name": "stdout",
          "output_type": "stream",
          "text": [
            "torch.Size([100, 3, 32, 32])\n",
            "torch.Size([100, 10])\n"
          ]
        }
      ],
      "source": [
        "org_labels = org_labels.to(device)\n",
        "org_images = org_images.to(device)\n",
        "print(org_images.shape)\n",
        "outputs= net(org_images)\n",
        "output=outputs.to(device)\n",
        "print(outputs.shape)\n",
        "_, predicted = torch.max(outputs.data, 1)\n"
      ]
    },
    {
      "cell_type": "code",
      "execution_count": 14,
      "metadata": {
        "colab": {
          "base_uri": "https://localhost:8080/"
        },
        "id": "NWGpIxNYp0EB",
        "outputId": "a5953102-03dc-4d53-8c8b-06a937887296"
      },
      "outputs": [
        {
          "name": "stdout",
          "output_type": "stream",
          "text": [
            "tensor([[-1.6013e+00,  4.1405e-01, -3.0315e+00,  7.2672e+00, -6.8399e-01,\n",
            "          6.1694e+00,  6.5238e-01, -9.4150e-01, -5.1545e+00, -4.2905e+00],\n",
            "        [ 7.1074e+00,  7.5254e+00, -7.9249e+00, -4.8680e+00, -5.4501e+00,\n",
            "         -7.8273e+00, -6.3411e+00, -3.5584e+00,  1.9405e+01, -1.4468e+00],\n",
            "        [ 5.4693e+00,  7.1177e+00, -5.3254e+00, -5.1984e+00, -3.3533e+00,\n",
            "         -6.4650e+00, -7.4227e+00, -1.8792e+00,  1.3720e+01,  1.0023e+00],\n",
            "        [ 7.8938e+00, -5.4703e-01, -1.7368e+00, -2.4541e-01, -4.3472e+00,\n",
            "         -4.4387e+00, -5.3396e+00, -2.5026e+00,  5.8210e+00,  3.2829e+00],\n",
            "        [-2.9202e+00, -2.2493e+00,  4.4552e+00,  1.6899e+00,  1.6349e+00,\n",
            "         -1.7194e+00,  1.2294e+01, -5.9836e+00, -4.3141e+00, -2.9503e+00],\n",
            "        [-5.3549e+00, -3.5985e+00,  1.1536e-01,  3.6933e+00,  6.4653e-01,\n",
            "          4.6236e+00,  1.4023e+01, -4.0236e+00, -5.6518e+00, -4.7964e+00],\n",
            "        [-1.9847e+00,  1.3110e+01, -2.8382e+00, -7.9052e-02, -5.0502e+00,\n",
            "         -1.1520e+00, -4.6275e+00,  1.0106e+00, -5.6275e+00,  6.4528e+00],\n",
            "        [-8.2876e-01, -3.7012e+00,  6.2499e-01,  8.0296e-01,  1.2693e-01,\n",
            "          2.0949e-01,  9.4511e+00, -7.6130e-01, -4.0082e+00, -2.4939e+00],\n",
            "        [-1.4622e+00, -6.9790e+00, -1.6830e+00,  1.0401e+01,  3.2701e+00,\n",
            "          8.0048e+00,  1.9149e+00, -1.8530e+00, -6.4533e+00, -6.0444e+00],\n",
            "        [-2.3421e-01,  8.7127e+00, -5.3220e+00, -2.0117e+00, -4.7951e+00,\n",
            "         -5.2228e+00, -9.3316e-01, -2.2670e+00,  4.4634e+00,  5.9852e+00],\n",
            "        [ 8.3203e+00, -4.8640e+00,  1.8957e+00,  6.5089e-01,  3.7958e-01,\n",
            "          1.7902e+00, -2.2710e+00, -9.4791e-01, -3.0402e+00, -3.1518e+00],\n",
            "        [-2.2004e+00,  1.1769e+01, -9.3087e+00, -1.7408e+00, -9.0413e+00,\n",
            "         -4.7026e+00, -7.6959e+00, -3.3208e+00,  2.6762e+00,  2.0331e+01],\n",
            "        [-5.3465e+00, -4.2160e+00,  6.2828e-01,  3.7521e+00,  5.5705e+00,\n",
            "          8.3798e+00,  2.2199e+00,  4.1590e+00, -7.8337e+00, -7.5837e+00],\n",
            "        [-4.3508e+00,  3.4237e-02,  4.7800e-02, -8.1037e-01,  1.3863e+00,\n",
            "          2.4398e+00, -2.5911e+00,  1.4756e+01, -7.1036e+00, -3.8796e+00],\n",
            "        [ 9.0090e-01,  6.5577e+00, -4.1445e+00, -3.5602e+00, -3.6642e+00,\n",
            "         -5.6323e+00, -7.4538e+00, -4.1868e+00,  4.1214e+00,  1.4830e+01],\n",
            "        [ 2.8059e+00, -1.5796e+00, -8.7387e-01, -3.3996e-01, -3.8261e-02,\n",
            "         -1.8383e+00,  6.7100e+00, -4.5656e+00,  1.1145e+00, -2.5192e+00],\n",
            "        [-3.6682e+00, -3.6322e+00, -2.1982e+00,  4.4196e+00, -2.9050e+00,\n",
            "          1.0996e+01, -1.3955e+00,  6.9821e+00, -5.7464e+00, -4.4368e+00],\n",
            "        [ 8.7104e-02, -1.1824e+00, -2.8600e-01, -1.7943e-01, -2.7104e-01,\n",
            "          1.0053e+00, -3.1542e+00,  9.7125e+00, -7.2101e+00,  7.1080e-01],\n",
            "        [ 6.7810e+00,  1.2357e+00, -3.5684e+00, -7.5616e+00, -2.3929e+00,\n",
            "         -7.8062e+00, -6.5570e+00, -3.9139e+00,  1.7224e+01,  3.1010e+00],\n",
            "        [-2.0703e+00, -1.8378e+00,  3.3966e+00, -9.3405e-01, -7.7341e-01,\n",
            "         -1.3042e+00,  1.5767e+01, -6.4806e+00, -2.0033e+00, -3.9392e+00],\n",
            "        [ 2.3200e+00, -1.0696e-01, -2.6017e+00,  1.2268e+00,  4.1392e-01,\n",
            "          4.0506e+00, -6.4623e+00,  4.9808e+00, -6.1515e+00,  1.0805e+00],\n",
            "        [ 1.0011e+01, -4.3751e+00,  6.7198e+00, -1.0701e-01, -3.0088e+00,\n",
            "         -3.0901e+00, -6.4720e-01, -3.4518e+00,  4.9312e-02, -2.5470e+00],\n",
            "        [ 2.9656e+00, -7.2223e+00,  2.1452e+00,  7.4864e-01,  7.8268e+00,\n",
            "          1.9885e-02,  1.2504e+00, -5.3981e+00,  1.4962e+00, -5.1605e+00],\n",
            "        [ 8.9486e-01,  9.1553e+00, -4.2446e+00, -2.9523e+00, -6.2078e+00,\n",
            "         -4.0808e+00, -5.5524e+00, -4.6087e+00, -2.7187e+00,  1.8435e+01],\n",
            "        [-4.7944e+00, -6.4855e+00, -9.7601e-01,  4.9386e+00,  1.0915e+01,\n",
            "          8.7062e+00, -8.3311e-01,  2.6720e-01, -7.0771e+00, -4.8494e+00],\n",
            "        [-3.0745e-01, -3.0762e+00,  4.7755e+00, -8.5336e-01,  1.5625e+00,\n",
            "         -1.1728e-01,  7.6240e-01, -2.2552e-01, -3.2002e+00,  2.1908e-01],\n",
            "        [-4.9043e+00, -5.2839e+00,  4.1031e+00,  3.5543e+00,  9.2084e+00,\n",
            "          2.5184e+00,  2.3057e+00, -2.1851e-01, -6.8264e+00, -4.2773e+00],\n",
            "        [ 8.9554e+00, -4.0114e+00,  2.8735e+00, -2.6171e+00, -2.4423e-01,\n",
            "         -2.6409e+00, -1.4255e+00,  1.8785e+00, -3.0185e+00, -4.6581e-01],\n",
            "        [-1.3100e+00,  7.3006e+00, -1.4143e+00, -2.3247e+00, -3.8848e+00,\n",
            "         -4.5896e+00, -5.0255e+00, -3.0041e+00,  8.5505e-01,  1.1735e+01],\n",
            "        [-2.1147e+00, -4.1009e+00,  4.2293e+00, -1.9878e-01,  2.4350e+00,\n",
            "          9.4872e-01,  1.1220e+01, -1.7740e+00, -6.2337e+00, -3.9364e+00],\n",
            "        [-2.3218e+00, -4.3441e+00,  6.1645e+00,  3.2538e+00,  2.0749e+00,\n",
            "          1.9210e-02,  9.1957e+00, -3.7830e+00, -5.7319e+00, -4.3420e+00],\n",
            "        [-4.9612e+00, -6.3770e+00,  1.7413e+00,  8.1519e+00,  2.3489e-01,\n",
            "          1.7769e+01,  5.2041e-01, -2.0490e+00, -8.0227e+00, -9.0563e+00],\n",
            "        [-2.3829e+00, -7.0091e+00,  4.0484e+00,  1.6658e+00,  5.5587e+00,\n",
            "         -2.9990e-01,  2.4401e+00, -3.5984e+00,  2.6820e+00, -4.0844e+00],\n",
            "        [-3.0905e+00, -3.1971e+00,  1.9951e+00,  2.4398e+00, -9.8001e-01,\n",
            "          7.5495e+00,  5.2632e+00, -4.6584e+00, -2.0313e+00, -4.5235e+00],\n",
            "        [ 4.6311e+00,  3.7111e+00, -5.1142e+00, -3.1927e+00, -7.8191e+00,\n",
            "         -5.1852e+00, -8.6376e+00, -5.5200e+00,  3.7689e+00,  2.0120e+01],\n",
            "        [-4.5152e+00,  8.2216e-03,  1.8295e+00,  2.1809e+00, -2.9091e-01,\n",
            "         -6.5138e-01,  4.2108e+00, -3.3004e+00,  2.1712e+00, -2.7506e+00],\n",
            "        [-4.1155e+00, -6.3099e+00, -2.8447e+00,  1.3136e+00,  1.6262e+01,\n",
            "          7.9825e+00, -4.8775e+00,  7.5286e+00, -8.5313e+00, -6.8692e+00],\n",
            "        [ 1.9979e+00,  1.0076e+01, -5.7513e+00, -1.6194e+00, -4.5354e+00,\n",
            "         -3.9065e+00, -7.4154e+00, -1.5917e+00,  7.8504e-01,  9.7459e+00],\n",
            "        [ 1.3216e+00,  6.4005e+00, -6.8314e+00, -2.7616e+00, -3.7932e+00,\n",
            "         -4.0337e+00, -4.5738e+00, -5.9588e+00,  1.1108e+00,  1.6825e+01],\n",
            "        [-3.3617e+00, -1.4903e+00, -2.4223e+00,  5.3720e+00, -2.6225e+00,\n",
            "          1.8017e+01, -2.6022e+00, -2.8450e+00, -5.8025e+00, -5.0738e+00],\n",
            "        [ 5.2902e+00, -1.9560e+00,  2.3659e+00, -9.9054e-01,  1.0943e+01,\n",
            "         -1.4437e+00, -5.7040e+00, -9.7822e-01, -3.5162e+00, -4.7101e+00],\n",
            "        [-3.2282e+00, -9.9249e-01,  1.1928e+00,  1.0809e+00, -7.7881e-01,\n",
            "          4.1864e-03,  9.9793e+00, -2.9493e+00, -3.5476e+00, -7.4227e-01],\n",
            "        [-1.9324e+00, -9.0222e-01,  2.3811e-01,  2.6913e+00, -2.7642e-01,\n",
            "          4.7293e+00, -2.4511e+00,  2.3881e-01, -2.8933e+00, -3.6242e-01],\n",
            "        [-2.3012e+00, -1.5391e+00,  1.2742e+00,  1.7277e+00, -1.6232e+00,\n",
            "          6.0965e-01,  1.2107e+01, -6.0768e+00, -3.2007e-01, -4.5927e+00],\n",
            "        [ 1.2834e+01,  2.7407e+00, -7.2804e-01, -3.8715e+00, -6.3971e-01,\n",
            "         -6.2791e+00, -6.1448e+00, -2.3180e+00,  5.3606e-01,  2.7548e+00],\n",
            "        [ 6.5482e-01,  1.2154e+01, -6.7001e+00, -1.8261e+00, -5.8986e+00,\n",
            "         -4.1314e+00, -1.0723e+01, -4.1333e+00, -2.0180e+00,  2.0228e+01],\n",
            "        [-4.5145e+00, -6.8535e+00,  2.9853e+00,  8.8847e+00,  1.9690e+00,\n",
            "          6.4186e+00,  5.1756e+00, -2.1446e+00, -5.6963e+00, -6.8448e+00],\n",
            "        [ 2.4592e+00,  1.9037e+00, -2.5945e+00, -8.9367e-01, -8.2891e-01,\n",
            "         -3.6136e+00, -4.8278e+00, -4.2484e+00,  3.8236e+00,  7.0884e+00],\n",
            "        [-9.1881e+00, -4.6801e+00, -4.0989e+00,  6.8118e-01,  1.0859e+01,\n",
            "          9.6452e+00, -5.7460e+00,  2.1059e+01, -9.3571e+00, -8.8383e+00],\n",
            "        [-4.4258e-01, -4.4925e+00,  3.4892e+00,  7.7087e-01,  2.1314e+00,\n",
            "          1.9783e-01,  8.1684e+00, -3.2180e+00, -4.1940e+00, -2.5862e+00],\n",
            "        [ 4.0758e+00,  2.7027e+00, -1.5276e+00, -5.3978e+00, -5.2596e+00,\n",
            "         -7.7699e+00, -3.4205e+00, -2.1851e+00,  2.4856e+00,  1.4814e+01],\n",
            "        [-1.1324e-01, -2.6704e+00, -3.0748e+00, -2.5982e+00,  9.6358e-01,\n",
            "         -4.3222e+00, -1.5214e+00, -1.7746e+00,  1.2913e+01, -4.1984e-01],\n",
            "        [-7.4725e-01, -9.1843e-01,  2.1823e-01,  4.7516e+00, -1.2975e+00,\n",
            "          4.2147e+00, -1.6333e+00,  1.4345e+00, -6.3544e+00, -1.2361e-01],\n",
            "        [-2.5649e+00, -2.8738e+00,  4.8152e+00,  5.1159e+00,  2.1548e+00,\n",
            "          2.0225e+00,  3.6486e+00, -1.5513e+00, -6.5462e+00, -4.1750e+00],\n",
            "        [ 8.3321e+00, -2.5602e-01, -3.7993e+00, -4.9035e+00, -2.9821e+00,\n",
            "         -6.9349e+00, -4.0198e+00, -3.7887e+00,  1.6815e+01, -1.5560e+00],\n",
            "        [ 1.8215e+00, -5.0998e+00, -3.2092e+00, -2.8946e+00, -2.8072e+00,\n",
            "         -2.5088e+00, -3.5414e+00, -6.9452e+00,  1.9881e+01,  1.3099e+00],\n",
            "        [-2.7923e+00, -1.0354e+00,  1.0156e+00,  1.8831e+00,  2.7267e+00,\n",
            "          2.9350e+00, -4.7604e+00,  9.8448e+00, -8.7173e+00, -1.2298e+00],\n",
            "        [-2.1371e+00, -2.7441e+00,  6.1376e-02,  2.9954e+00,  8.8480e-01,\n",
            "          3.5135e+00,  7.5911e-01,  6.3109e+00, -4.6267e+00, -5.1355e+00],\n",
            "        [ 2.3911e+00, -3.8270e+00,  2.0619e-01, -1.3715e-01,  2.4324e+00,\n",
            "          3.3723e+00, -7.8699e-01,  2.8197e+00, -4.1128e+00, -2.8739e+00],\n",
            "        [-1.0569e-02, -1.5453e+00, -5.5750e-01,  3.1324e+00, -1.4921e+00,\n",
            "          2.9273e+00,  5.3597e+00, -1.8042e+00, -4.0194e+00, -2.5779e+00],\n",
            "        [-6.4184e+00, -3.0655e+00, -4.7686e+00,  9.3386e-01,  6.8163e+00,\n",
            "          7.5176e+00, -2.2390e+00,  1.5941e+01, -8.7971e+00, -5.8618e+00],\n",
            "        [-4.5600e+00, -5.3721e+00,  1.1879e+00,  4.4409e+00,  7.9674e-01,\n",
            "          7.9309e+00,  3.7722e+00, -2.4879e-01, -5.3383e+00, -3.4271e+00],\n",
            "        [-1.8404e+00, -1.0436e+00,  3.6098e-01,  2.7390e+00,  5.3400e-01,\n",
            "          2.1067e+00,  5.9837e+00, -7.4501e-01, -3.9653e+00, -4.5131e+00],\n",
            "        [ 4.2890e-01, -1.9901e+00,  1.0398e-01,  6.3851e+00,  1.3499e-01,\n",
            "          5.4581e+00, -4.3796e+00, -3.9922e+00, -2.0335e+00, -1.8226e+00],\n",
            "        [-2.9345e+00, -2.0486e+00,  2.2254e+00,  2.0554e+00,  3.9589e-01,\n",
            "          6.3052e-01,  9.6080e+00, -3.7681e+00, -3.1917e+00, -3.5501e+00],\n",
            "        [-1.4033e+00, -5.5626e+00,  9.6475e+00,  1.6579e+00,  3.3269e+00,\n",
            "         -3.9423e-01,  4.1362e+00, -1.7113e+00, -5.7041e+00, -4.1018e+00],\n",
            "        [ 1.8048e+00,  8.5632e+00, -6.1656e+00, -2.3476e+00, -2.7848e+00,\n",
            "         -4.6791e+00, -5.0660e+00, -3.3551e+00,  8.7245e+00,  3.2867e+00],\n",
            "        [ 2.0267e+00,  4.1233e+00,  1.1162e+01, -2.4352e+00, -3.6367e+00,\n",
            "         -5.1544e+00, -2.1101e-02, -1.8633e+00, -3.9760e+00,  1.0252e-01],\n",
            "        [-5.0709e+00,  1.9654e+00,  5.8254e-01,  4.0734e+00, -1.3430e+00,\n",
            "          3.4791e+00, -3.1452e-01, -3.3547e+00, -2.1984e+00,  9.9006e-01],\n",
            "        [-5.2884e-01, -8.3946e-01, -3.9555e+00, -1.2034e+00,  4.4835e+00,\n",
            "          1.2089e+00, -6.1477e+00,  1.0261e+01, -3.6435e+00, -4.5224e-01],\n",
            "        [ 2.0121e+00, -5.2242e+00,  5.3604e+00,  1.5008e+00,  2.5523e+00,\n",
            "          1.9525e+00, -1.1252e+00, -2.6109e+00,  2.7699e-01, -5.7190e+00],\n",
            "        [-1.9365e+00, -1.9804e+00,  6.3872e-01,  2.9543e+00, -2.7622e-01,\n",
            "          2.2714e+00,  9.5433e+00, -3.1667e+00, -5.4634e+00, -2.8140e+00],\n",
            "        [ 2.9191e+00, -3.0969e+00, -3.1811e+00, -2.6548e+00,  8.8437e-01,\n",
            "         -4.6339e+00, -3.4507e+00, -2.8151e+00,  1.4588e+01, -1.3104e+00],\n",
            "        [ 3.6530e+00,  2.0059e+00, -3.5257e+00, -3.8711e+00, -1.5493e+00,\n",
            "         -5.1946e+00, -3.5833e+00, -2.0304e+00,  1.2835e+01, -1.0378e+00],\n",
            "        [ 1.2716e+01,  6.3522e-01, -3.6798e+00, -5.4549e+00,  6.9645e-01,\n",
            "         -7.0161e+00, -5.6480e+00, -1.5827e+00,  4.6783e+00,  2.5884e+00],\n",
            "        [-8.3031e-02, -7.3452e+00,  1.5651e+01, -1.8711e+00,  3.6859e-01,\n",
            "          3.0238e-01,  3.3929e+00, -1.2484e+00, -4.6093e+00, -4.5800e+00],\n",
            "        [ 3.6494e+00,  3.9834e+00, -6.7027e-01, -4.0761e+00, -3.0929e+00,\n",
            "         -4.9680e+00, -7.0280e+00,  8.7478e-01, -1.0262e+00,  1.0730e+01],\n",
            "        [ 6.0086e-01, -3.7184e+00, -3.7522e+00,  1.0661e+01, -1.9048e-01,\n",
            "          8.4804e+00, -3.5433e+00, -2.8784e-01, -4.0290e+00, -5.9472e+00],\n",
            "        [-4.0690e+00, -3.9047e+00,  2.2679e-01,  6.6930e+00,  3.2372e+00,\n",
            "          7.4101e+00, -1.5001e-01,  2.3292e+00, -7.2632e+00, -4.8844e+00],\n",
            "        [ 4.5722e+00, -2.4424e+00, -2.8031e+00, -4.2965e+00,  7.9242e-01,\n",
            "         -4.5403e+00, -8.2845e+00, -4.8140e-01,  1.3888e+01,  4.9043e-01],\n",
            "        [ 4.7244e+00, -7.6587e-01, -5.8977e+00, -3.8811e+00, -4.2849e+00,\n",
            "         -5.8774e+00, -6.9065e+00, -3.4508e+00,  2.2085e+01,  1.8325e-01],\n",
            "        [ 3.0587e-01,  1.1099e+01, -6.2323e+00, -1.4958e-01, -5.3240e+00,\n",
            "         -1.5930e+00, -8.9101e-01, -5.1394e+00, -1.0925e+00,  7.3738e+00],\n",
            "        [-2.5493e+00,  1.8549e+01, -4.8453e+00,  3.6024e-01, -4.9169e+00,\n",
            "         -3.0453e+00, -3.2690e+00, -6.4933e+00,  3.6136e-01,  4.7016e+00],\n",
            "        [-1.2819e+00, -3.4768e+00,  3.3281e-01,  3.5902e-01,  1.1971e+00,\n",
            "          3.7168e+00, -6.6924e+00,  1.1836e+01, -3.7113e+00, -3.0370e+00],\n",
            "        [-1.5904e+00, -5.4347e+00,  7.9516e+00,  1.6734e+00, -2.0298e+00,\n",
            "          2.2748e+00,  1.3278e+00,  1.1500e+00, -1.5780e+00, -4.6968e+00],\n",
            "        [-9.8786e-01, -1.5820e+00, -1.1608e+00,  9.7932e-01,  2.0174e-01,\n",
            "          3.7905e+00, -3.0921e+00,  1.8316e+00, -4.2613e+00,  3.3214e+00],\n",
            "        [-4.3435e-01, -7.3046e-01,  2.5932e+00,  5.7455e-01, -7.1487e-01,\n",
            "          2.2040e+00, -2.6390e+00,  4.9429e+00, -4.9883e+00, -1.4561e+00],\n",
            "        [-1.2829e+00, -3.3363e+00, -1.5636e+00,  1.9498e+00,  3.9952e+00,\n",
            "          2.0654e+00, -3.2116e+00,  7.9609e+00, -3.7504e+00, -3.3066e+00],\n",
            "        [ 2.0307e+00, -1.6821e+00, -3.8074e+00, -4.6520e+00, -1.1218e+00,\n",
            "         -4.4632e+00, -7.1912e+00,  2.6363e+00,  1.5513e+01, -2.4920e-01],\n",
            "        [ 1.1633e+00,  6.3649e+00, -6.6505e+00, -2.9138e+00, -5.0028e+00,\n",
            "         -6.0904e+00, -6.7857e+00, -4.2032e+00,  3.6369e+00,  1.8171e+01],\n",
            "        [ 1.5178e+01,  2.6272e+00, -2.2804e+00, -4.3021e+00,  4.6274e+00,\n",
            "         -6.5642e+00, -1.1338e+01, -2.1108e+00,  3.1325e+00, -7.7448e-01],\n",
            "        [-3.0032e+00, -4.8143e+00,  2.2361e+00,  5.9627e+00,  6.3947e-01,\n",
            "          5.5442e+00,  6.6080e+00, -1.6520e+00, -4.7196e+00, -7.5006e+00],\n",
            "        [-1.1083e+00,  1.4946e+00, -6.2287e+00, -4.4323e+00, -1.1433e+00,\n",
            "         -3.1181e+00, -6.3530e+00,  3.2837e-01,  1.2777e+01,  4.8069e+00],\n",
            "        [-8.8684e-01, -2.2920e+00,  1.2993e+00,  1.3010e+00, -8.8057e-01,\n",
            "          6.1254e-01,  1.1083e+01, -5.9773e+00, -1.7570e+00, -2.8330e+00],\n",
            "        [-4.1255e+00, -6.9460e+00,  1.7336e+00,  8.8394e-01,  1.0699e+01,\n",
            "          4.8354e+00,  5.2886e-01,  3.5155e+00, -4.7685e+00, -6.3635e+00],\n",
            "        [-9.8774e-01, -1.6276e+00,  1.6516e+00,  1.9891e+00,  1.2497e+00,\n",
            "         -8.3722e-01,  5.6437e+00, -2.2120e+00, -3.0503e+00, -2.0199e+00],\n",
            "        [ 2.0042e+00, -1.7939e+00,  5.7020e+00,  4.2629e-01,  5.6868e+00,\n",
            "         -2.1101e+00,  6.7378e+00, -6.2863e+00, -6.7261e+00, -3.5993e+00],\n",
            "        [ 5.3008e+00, -3.8437e+00,  3.5210e+00,  5.6239e-01,  1.5720e+00,\n",
            "         -2.9896e+00,  3.6465e-01, -4.5333e+00,  2.0991e+00, -2.5209e+00],\n",
            "        [ 1.0137e+01, -1.1191e+00,  4.8537e+00, -2.5230e+00, -1.2774e+00,\n",
            "         -4.2200e+00, -2.2206e+00, -6.0714e-01, -3.6582e+00,  2.4434e-01],\n",
            "        [ 1.5171e+00, -2.9810e+00, -1.0678e+00, -4.1965e-01,  1.9359e+00,\n",
            "          3.3979e+00, -3.5271e+00,  9.6391e+00, -4.7960e+00, -4.5393e+00]],\n",
            "       device='cuda:0', grad_fn=<AddmmBackward0>)\n"
          ]
        }
      ],
      "source": [
        "print(outputs)"
      ]
    },
    {
      "cell_type": "code",
      "execution_count": 15,
      "metadata": {
        "colab": {
          "base_uri": "https://localhost:8080/",
          "height": 683
        },
        "id": "dEnJ2Vz2j8Zt",
        "outputId": "588b733c-498f-4c92-ea1a-e14bdf66bd33"
      },
      "outputs": [
        {
          "name": "stderr",
          "output_type": "stream",
          "text": [
            "WARNING:matplotlib.image:Clipping input data to the valid range for imshow with RGB data ([0..1] for floats or [0..255] for integers).\n"
          ]
        },
        {
          "data": {
            "image/png": "[encoded data removed]",
            "text/plain": [
              "<Figure size 2000x2000 with 1 Axes>"
            ]
          },
          "metadata": {},
          "output_type": "display_data"
        },
        {
          "name": "stdout",
          "output_type": "stream",
          "text": [
            "tensor([0, 1, 2, 3, 4, 5, 6, 7, 8, 9], device='cuda:0')\n",
            "tensor([[ 7.8938, -0.5470, -1.7368, -0.2454, -4.3472, -4.4387, -5.3396, -2.5026,\n",
            "          5.8210,  3.2829],\n",
            "        [ 1.8048,  8.5632, -6.1656, -2.3476, -2.7848, -4.6791, -5.0660, -3.3551,\n",
            "          8.7245,  3.2867],\n",
            "        [ 2.0267,  4.1233, 11.1620, -2.4352, -3.6367, -5.1544, -0.0211, -1.8633,\n",
            "         -3.9760,  0.1025],\n",
            "        [-1.6013,  0.4141, -3.0315,  7.2672, -0.6840,  6.1694,  0.6524, -0.9415,\n",
            "         -5.1545, -4.2905],\n",
            "        [-4.9043, -5.2839,  4.1031,  3.5543,  9.2084,  2.5184,  2.3057, -0.2185,\n",
            "         -6.8264, -4.2773],\n",
            "        [-3.6682, -3.6322, -2.1982,  4.4196, -2.9050, 10.9964, -1.3955,  6.9821,\n",
            "         -5.7464, -4.4368],\n",
            "        [-2.9202, -2.2493,  4.4552,  1.6899,  1.6349, -1.7194, 12.2936, -5.9836,\n",
            "         -4.3141, -2.9503],\n",
            "        [-4.3508,  0.0342,  0.0478, -0.8104,  1.3863,  2.4398, -2.5911, 14.7562,\n",
            "         -7.1036, -3.8796],\n",
            "        [ 7.1074,  7.5254, -7.9249, -4.8680, -5.4501, -7.8273, -6.3411, -3.5584,\n",
            "         19.4053, -1.4468],\n",
            "        [-2.2004, 11.7692, -9.3087, -1.7408, -9.0413, -4.7026, -7.6959, -3.3208,\n",
            "          2.6762, 20.3311]], device='cuda:0', grad_fn=<StackBackward0>)\n"
          ]
        }
      ],
      "source": [
        "def imshow(img):\n",
        "    img = img / 2 + 0.5     # unnormalize\n",
        "    npimg = img.numpy()\n",
        "    plt.figure(figsize=(20,20))\n",
        "    plt.imshow(np.transpose(npimg, (1, 2, 0)))\n",
        "    plt.show()\n",
        "\n",
        "\n",
        "samples = []\n",
        "samples_labels = []\n",
        "samples_pred = []\n",
        "selected = [3,66,67,0,26,16,4,13,1,11]\n",
        "\n",
        "for i in selected:\n",
        "  samples.append(org_images[i])\n",
        "  samples_labels.append(org_labels[i])\n",
        "  samples_pred.append(outputs[i])\n",
        "samples = torch.stack(samples)\n",
        "samples_labels = torch.stack(samples_labels)\n",
        "samples_pred = torch.stack(samples_pred)\n",
        "imshow(torchvision.utils.make_grid(samples.cpu()))\n",
        "print(samples_labels)\n",
        "print(samples_pred)"
      ]
    },
    {
      "cell_type": "markdown",
      "metadata": {
        "id": "40nvLOJjRqIW"
      },
      "source": [
        "###FGSM attack function\n",
        "In the FGSM attack, we make adversarial examples using this equation:\n",
        "$x_{adv}=x_{benign}+\\epsilon * sign(\\nabla_{x_{benign}}l(\\theta, x, y))$"
      ]
    },
    {
      "cell_type": "code",
      "execution_count": 16,
      "metadata": {
        "id": "9UnTlW9TTc9i"
      },
      "outputs": [],
      "source": [
        "def FGSM(net, x, y, eps):\n",
        "        '''\n",
        "        inputs:\n",
        "            net: the network through which we pass the inputs\n",
        "            x: the original example which we aim to perturb to make an adversarial example\n",
        "            y: the true label of x\n",
        "            eps: perturbation budget\n",
        "\n",
        "        outputs:\n",
        "            x_adv : the adversarial example constructed from x\n",
        "            h_adv: output of the last softmax layer when applying net on x_adv\n",
        "            y_adv: predicted label for x_adv\n",
        "            pert: perturbation applied to x (x_adv - x)\n",
        "        '''\n",
        "\n",
        "        x_ = Variable(x.data, requires_grad=True)\n",
        "        h_ = net(x_)\n",
        "        criterion= torch.nn.CrossEntropyLoss()\n",
        "        cost = criterion(h_, y)\n",
        "        net.zero_grad()\n",
        "        cost.backward()\n",
        "\n",
        "        #perturbation\n",
        "        pert= eps*x_.grad.detach().sign()\n",
        "\n",
        "        x_adv = x_ + pert\n",
        "\n",
        "        h_adv = net(x_adv)\n",
        "        _,y_adv=torch.max(h_adv.data,1)\n",
        "        return x_adv, h_adv, y_adv, pert\n"
      ]
    },
    {
      "cell_type": "markdown",
      "metadata": {
        "id": "NH8r6HvNiaH5"
      },
      "source": [
        "### Creating adversarial examples from samples with the FGSM attack and eps = 1/255"
      ]
    },
    {
      "cell_type": "code",
      "execution_count": 17,
      "metadata": {
        "colab": {
          "base_uri": "https://localhost:8080/",
          "height": 1000
        },
        "id": "Dlz3Js_7TQ2z",
        "outputId": "0ec73f9d-422f-497f-940e-8d0896c2dfea"
      },
      "outputs": [
        {
          "name": "stdout",
          "output_type": "stream",
          "text": [
            "\n",
            "from left to right: (1/eps) perturbation, original image, adversarial example\n",
            "\n"
          ]
        },
        {
          "name": "stderr",
          "output_type": "stream",
          "text": [
            "WARNING:matplotlib.image:Clipping input data to the valid range for imshow with RGB data ([0..1] for floats or [0..255] for integers).\n"
          ]
        },
        {
          "name": "stdout",
          "output_type": "stream",
          "text": [
            "true label: 0 adversary label: 8\n"
          ]
        },
        {
          "data": {
            "image/png": "[encoded data removed]",
            "text/plain": [
              "<Figure size 1000x1000 with 1 Axes>"
            ]
          },
          "metadata": {},
          "output_type": "display_data"
        },
        {
          "name": "stderr",
          "output_type": "stream",
          "text": [
            "WARNING:matplotlib.image:Clipping input data to the valid range for imshow with RGB data ([0..1] for floats or [0..255] for integers).\n"
          ]
        },
        {
          "name": "stdout",
          "output_type": "stream",
          "text": [
            "true label: 1 adversary label: 8\n"
          ]
        },
        {
          "data": {
            "image/png": "[encoded data removed]",
            "text/plain": [
              "<Figure size 1000x1000 with 1 Axes>"
            ]
          },
          "metadata": {},
          "output_type": "display_data"
        },
        {
          "name": "stderr",
          "output_type": "stream",
          "text": [
            "WARNING:matplotlib.image:Clipping input data to the valid range for imshow with RGB data ([0..1] for floats or [0..255] for integers).\n"
          ]
        },
        {
          "name": "stdout",
          "output_type": "stream",
          "text": [
            "true label: 2 adversary label: 1\n"
          ]
        },
        {
          "data": {
            "image/png": "[encoded data removed]",
            "text/plain": [
              "<Figure size 1000x1000 with 1 Axes>"
            ]
          },
          "metadata": {},
          "output_type": "display_data"
        },
        {
          "name": "stderr",
          "output_type": "stream",
          "text": [
            "WARNING:matplotlib.image:Clipping input data to the valid range for imshow with RGB data ([0..1] for floats or [0..255] for integers).\n"
          ]
        },
        {
          "name": "stdout",
          "output_type": "stream",
          "text": [
            "true label: 3 adversary label: 5\n"
          ]
        },
        {
          "data": {
            "image/png": "[encoded data removed]",
            "text/plain": [
              "<Figure size 1000x1000 with 1 Axes>"
            ]
          },
          "metadata": {},
          "output_type": "display_data"
        },
        {
          "name": "stderr",
          "output_type": "stream",
          "text": [
            "WARNING:matplotlib.image:Clipping input data to the valid range for imshow with RGB data ([0..1] for floats or [0..255] for integers).\n"
          ]
        },
        {
          "name": "stdout",
          "output_type": "stream",
          "text": [
            "true label: 4 adversary label: 2\n"
          ]
        },
        {
          "data": {
            "image/png": "[encoded data removed]",
            "text/plain": [
              "<Figure size 1000x1000 with 1 Axes>"
            ]
          },
          "metadata": {},
          "output_type": "display_data"
        },
        {
          "name": "stdout",
          "output_type": "stream",
          "text": [
            "true label: 5 adversary label: 7\n"
          ]
        },
        {
          "name": "stderr",
          "output_type": "stream",
          "text": [
            "WARNING:matplotlib.image:Clipping input data to the valid range for imshow with RGB data ([0..1] for floats or [0..255] for integers).\n"
          ]
        },
        {
          "data": {
            "image/png": "[encoded data removed]",
            "text/plain": [
              "<Figure size 1000x1000 with 1 Axes>"
            ]
          },
          "metadata": {},
          "output_type": "display_data"
        },
        {
          "name": "stderr",
          "output_type": "stream",
          "text": [
            "WARNING:matplotlib.image:Clipping input data to the valid range for imshow with RGB data ([0..1] for floats or [0..255] for integers).\n"
          ]
        },
        {
          "name": "stdout",
          "output_type": "stream",
          "text": [
            "true label: 6 adversary label: 2\n"
          ]
        },
        {
          "data": {
            "image/png": "[encoded data removed]",
            "text/plain": [
              "<Figure size 1000x1000 with 1 Axes>"
            ]
          },
          "metadata": {},
          "output_type": "display_data"
        },
        {
          "name": "stderr",
          "output_type": "stream",
          "text": [
            "WARNING:matplotlib.image:Clipping input data to the valid range for imshow with RGB data ([0..1] for floats or [0..255] for integers).\n"
          ]
        },
        {
          "name": "stdout",
          "output_type": "stream",
          "text": [
            "true label: 7 adversary label: 5\n"
          ]
        },
        {
          "data": {
            "image/png": "[encoded data removed]",
            "text/plain": [
              "<Figure size 1000x1000 with 1 Axes>"
            ]
          },
          "metadata": {},
          "output_type": "display_data"
        },
        {
          "name": "stderr",
          "output_type": "stream",
          "text": [
            "WARNING:matplotlib.image:Clipping input data to the valid range for imshow with RGB data ([0..1] for floats or [0..255] for integers).\n"
          ]
        },
        {
          "name": "stdout",
          "output_type": "stream",
          "text": [
            "true label: 8 adversary label: 1\n"
          ]
        },
        {
          "data": {
            "image/png": "[encoded data removed]",
            "text/plain": [
              "<Figure size 1000x1000 with 1 Axes>"
            ]
          },
          "metadata": {},
          "output_type": "display_data"
        },
        {
          "name": "stdout",
          "output_type": "stream",
          "text": [
            "true label: 9 adversary label: 1\n"
          ]
        },
        {
          "name": "stderr",
          "output_type": "stream",
          "text": [
            "WARNING:matplotlib.image:Clipping input data to the valid range for imshow with RGB data ([0..1] for floats or [0..255] for integers).\n"
          ]
        },
        {
          "data": {
            "image/png": "[encoded data removed]",
            "text/plain": [
              "<Figure size 1000x1000 with 1 Axes>"
            ]
          },
          "metadata": {},
          "output_type": "display_data"
        }
      ],
      "source": [
        "print()\n",
        "print('from left to right: (1/eps) perturbation, original image, adversarial example')\n",
        "print()\n",
        "for i in selected:\n",
        "    eps=1/255\n",
        "    while True:\n",
        "        x_adv, h_adv, y_adv, pert=FGSM(net, org_images[i].unsqueeze_(0),org_labels[i].unsqueeze_(0),eps)\n",
        "        if y_adv.item()==org_labels[i].item():\n",
        "            eps=eps+(1/255)\n",
        "        else:\n",
        "            break\n",
        "    print(\"true label:\", org_labels[i].item(), \"adversary label:\", y_adv.item())\n",
        "    triple=[]\n",
        "    with torch.no_grad():\n",
        "        triple.append((1/eps)*pert.detach().clone().squeeze_(0))\n",
        "        triple.append(org_images[i])\n",
        "        triple.append(x_adv.detach().clone().squeeze_(0))\n",
        "        triple=torch.stack(triple)\n",
        "        grid = torchvision.utils.make_grid(triple.cpu()/2+0.5)\n",
        "        plt.figure(figsize=(10,10))\n",
        "        plt.imshow(grid.numpy().transpose((1, 2, 0)))\n",
        "        plt.axis('off')\n",
        "        plt.show()\n",
        "\n"
      ]
    },
    {
      "cell_type": "markdown",
      "metadata": {
        "id": "TioJJyM4UpOS"
      },
      "source": [
        "**As you can see, the original and adversarial examples look extremely similar to the human eye.**"
      ]
    },
    {
      "cell_type": "markdown",
      "metadata": {
        "id": "Ka-hwda0mxp7"
      },
      "source": [
        "### Adversarial Training with FGSM"
      ]
    },
    {
      "cell_type": "markdown",
      "metadata": {
        "id": "R2JDgAWpVY9S"
      },
      "source": [
        "First, we should build a new model (which we call net_adv) to train on adversarial examples generated by the FGSM attack."
      ]
    },
    {
      "cell_type": "code",
      "execution_count": 18,
      "metadata": {
        "colab": {
          "base_uri": "https://localhost:8080/"
        },
        "id": "YxZI0A2fvq9-",
        "outputId": "d615b2b5-50e8-4018-90f9-8c450c0a23bc"
      },
      "outputs": [
        {
          "name": "stdout",
          "output_type": "stream",
          "text": [
            "==> Building new model..\n"
          ]
        }
      ],
      "source": [
        "print('==> Building new model..')\n",
        "net_adv = ResNet18()\n",
        "net_adv = net_adv.to(device)\n",
        "if device == 'cuda':\n",
        "    net_adv = torch.nn.DataParallel(net_adv)\n",
        "    cudnn.benchmark = True\n",
        "\n",
        "criterion = nn.CrossEntropyLoss()\n",
        "optimizer_adv = optim.SGD(net_adv.parameters(), lr=lr,\n",
        "                      momentum=0.9, weight_decay=5e-4)\n",
        "scheduler_adv = torch.optim.lr_scheduler.CosineAnnealingLR(optimizer_adv, T_max=200)\n"
      ]
    },
    {
      "cell_type": "markdown",
      "metadata": {
        "id": "zVx_-puKWbgG"
      },
      "source": [
        "Train_adv function trains a given neural network on adversarial examples generated from training data using the FGSM attack.\n",
        "\n"
      ]
    },
    {
      "cell_type": "code",
      "execution_count": 19,
      "metadata": {
        "id": "MqVHCoXHTTwd"
      },
      "outputs": [],
      "source": [
        "def train_adv(epoch, net):\n",
        "    net.train()\n",
        "    train_loss = 0\n",
        "    correct = 0\n",
        "    total = 0\n",
        "    eps=8/255\n",
        "    for batch_idx, (inputs, targets) in enumerate(trainloader):\n",
        "        inputs, targets = inputs.to(device), targets.to(device)\n",
        "\n",
        "        inputs_ = Variable(inputs.data, requires_grad=True)\n",
        "        h_ = net(inputs_)\n",
        "\n",
        "        cost = criterion(h_, targets)\n",
        "\n",
        "        net.zero_grad()\n",
        "        cost.backward()\n",
        "\n",
        "        pert= eps*inputs_.grad.detach().sign()\n",
        "        x_adv = inputs_ + pert\n",
        "\n",
        "        optimizer_adv.zero_grad()\n",
        "        outputs = net(x_adv)\n",
        "        loss = criterion(outputs, targets)\n",
        "        loss.backward()\n",
        "        optimizer_adv.step()\n",
        "\n",
        "        train_loss += loss.item()\n",
        "        _, predicted = outputs.max(1)\n",
        "        total += targets.size(0)\n",
        "        correct += predicted.eq(targets).sum().item()\n",
        "    return train_loss/len(trainloader)"
      ]
    },
    {
      "cell_type": "code",
      "execution_count": 20,
      "metadata": {
        "colab": {
          "base_uri": "https://localhost:8080/"
        },
        "id": "gf_KbTHqK-Ah",
        "outputId": "37a0b9dd-4574-4bd5-cb1b-5e492a6133d7"
      },
      "outputs": [
        {
          "name": "stdout",
          "output_type": "stream",
          "text": [
            "0\n",
            "1\n",
            "2\n",
            "3\n",
            "4\n",
            "5\n",
            "6\n",
            "7\n",
            "8\n",
            "9\n",
            "10\n",
            "11\n",
            "12\n",
            "13\n",
            "14\n"
          ]
        }
      ],
      "source": [
        "# train_losses_adv=[]\n",
        "# test_losses_adv=[]\n",
        "# epochs=15\n",
        "\n",
        "# for epoch in range(0,epochs):\n",
        "#     train_losses_adv.append(train_adv(epoch, net_adv))\n",
        "#     test_losses_adv.append(test(epoch, net_adv))\n",
        "#     scheduler_adv.step()\n",
        "#     print(epoch)"
      ]
    },
    {
      "cell_type": "code",
      "execution_count": 21,
      "metadata": {
        "colab": {
          "base_uri": "https://localhost:8080/"
        },
        "id": "qWFm0wigDxjE",
        "outputId": "005515fd-2f1f-4a4d-e2c1-2671c9669b1e"
      },
      "outputs": [
        {
          "name": "stdout",
          "output_type": "stream",
          "text": [
            "Accuracy of the network on unperturbed test images: 83 %\n"
          ]
        }
      ],
      "source": [
        "# print('Accuracy of the network on unperturbed test images: %d %%' % (acc))"
      ]
    },
    {
      "cell_type": "markdown",
      "metadata": {
        "id": "rvlURfU-pYNj"
      },
      "source": [
        "#### Comparing naturally-trained and adversarially-trained models"
      ]
    },
    {
      "cell_type": "markdown",
      "metadata": {
        "id": "6LJl5N4AZntq"
      },
      "source": [
        "Train - natural: training loss of the naturally-trained model\n",
        "\n",
        "Train - adversary: training loss of the adversarially-trained model\n",
        "\n",
        "Test - natural:  loss of the naturally-trained model on original (unperturbed) test images\n",
        "\n",
        "Test - adversary: loss of the adversarially-trained model on original (unperturbed) test images"
      ]
    },
    {
      "cell_type": "code",
      "execution_count": 22,
      "metadata": {
        "colab": {
          "base_uri": "https://localhost:8080/",
          "height": 449
        },
        "id": "pllouoyupfZm",
        "outputId": "83aa8bf2-f9d4-4aae-c53e-ab669e132a05"
      },
      "outputs": [
        {
          "data": {
            "image/png": "[encoded data removed]",
            "text/plain": [
              "<Figure size 640x480 with 1 Axes>"
            ]
          },
          "metadata": {},
          "output_type": "display_data"
        }
      ],
      "source": [
        "# plt.plot(np.arange(1,epochs+1),train_losses, label='train - natural')\n",
        "# plt.plot(np.arange(1,epochs+1), test_losses, label='test - natural')\n",
        "# plt.plot(np.arange(1,epochs+1),train_losses_adv, label='train - adversary')\n",
        "# plt.plot(np.arange(1,epochs+1), test_losses_adv, label='test - adversary')\n",
        "# plt.xlabel('epochs')\n",
        "# plt.ylabel('losses')\n",
        "# plt.legend()\n",
        "# plt.show()"
      ]
    },
    {
      "cell_type": "markdown",
      "metadata": {
        "id": "nTlRyE7upwiY"
      },
      "source": [
        "Training losses of the adversarially-trained model are higher than training losses of the naturally-trained model, which is intuitive since the adversarially-trained model is trained against adversarial examples, which makes it harder for the model to label these perturbed inputs correctly and results in higher errors.\n",
        "\n",
        "The loss of the naturally-trained model on test data is higher than the training loss, since test data is unseen by the model, resulting in higher error in classification.\n",
        "\n",
        "However, the loss of the adversarially-trained model on test data is lower than the corresponding training loss. This is probably because the test instances are not adversarial (in contrast to training data) and that the model has learned to extract important and useful features, thus performing better on test images."
      ]
    },
    {
      "cell_type": "markdown",
      "metadata": {
        "id": "iHPJiYNK1ouR"
      },
      "source": [
        "####Evaluating the adversarially-trained model with FGSM against FGSM attack on test data\n"
      ]
    },
    {
      "cell_type": "markdown",
      "metadata": {
        "id": "D4NEhuRKbErX"
      },
      "source": [
        "Test_adv function constructs adversarial examples from test data (with FGSM using net) and evaluates net_adv on them."
      ]
    },
    {
      "cell_type": "code",
      "execution_count": 23,
      "metadata": {
        "id": "0PL1wYGTwBM-"
      },
      "outputs": [],
      "source": [
        "def test_adv(net, net_adv, eps):\n",
        "    accuracy=0\n",
        "    net.train()\n",
        "    net_adv.eval()\n",
        "    test_loss = 0\n",
        "    correct = 0\n",
        "    total = 0\n",
        "    for batch_idx, (inputs, targets) in enumerate(testloader):\n",
        "        inputs, targets = inputs.to(device), targets.to(device)\n",
        "\n",
        "        x_adv, h_adv, y_adv, pert = FGSM (net, inputs, targets, eps)\n",
        "\n",
        "        outputs = net_adv(x_adv)\n",
        "        loss = criterion(outputs, targets)\n",
        "\n",
        "        test_loss += loss.item()\n",
        "        _, predicted = outputs.max(1)\n",
        "        total += targets.size(0)\n",
        "        correct += predicted.eq(targets).sum().item()\n",
        "    accuracy = 100 * correct / total\n",
        "    return accuracy"
      ]
    },
    {
      "cell_type": "code",
      "execution_count": 24,
      "metadata": {
        "colab": {
          "base_uri": "https://localhost:8080/"
        },
        "id": "YwZTohtpjENc",
        "outputId": "b36a0512-ee55-4fa6-d805-7bf0fb85b0c9"
      },
      "outputs": [
        {
          "name": "stdout",
          "output_type": "stream",
          "text": [
            "accuracy of normal network (without adversarial training) on adversarially attacked dataset:  31.94\n"
          ]
        }
      ],
      "source": [
        "net2 = net\n",
        "net3 = net\n",
        "accuracy = test_adv(net, net2, eps)\n",
        "print(\"accuracy of normal network (without adversarial training) on adversarially attacked dataset: \", accuracy)"
      ]
    },
    {
      "cell_type": "code",
      "execution_count": 25,
      "metadata": {
        "colab": {
          "base_uri": "https://localhost:8080/"
        },
        "id": "ucGMwpoIwBPJ",
        "outputId": "93c56d73-cf1a-410c-afb2-22aa54cfa0ce"
      },
      "outputs": [
        {
          "name": "stdout",
          "output_type": "stream",
          "text": [
            "epsilon: 0.011267605633802818 accuracy: 82.81\n",
            "epsilon: 0.03137254901960784 accuracy: 81.71\n",
            "epsilon: 0.047058823529411764 accuracy: 80.92\n"
          ]
        }
      ],
      "source": [
        "# for eps in [4/355, 8/255, 12/255]:\n",
        "#     accuracy=test_adv(net, net_adv, eps)\n",
        "#     print(\"epsilon:\", eps, \"accuracy:\", accuracy)"
      ]
    },
    {
      "cell_type": "markdown",
      "metadata": {
        "id": "Bb-YeTlxlW3E"
      },
      "source": [
        "PGD Training"
      ]
    },
    {
      "cell_type": "code",
      "execution_count": 26,
      "metadata": {
        "id": "Dz02sMbBlSIk"
      },
      "outputs": [],
      "source": [
        "# PGD Attack\n",
        "# MNIST init\n",
        "def pgd_attack(model, images, labels, eps=0.3, alpha=2/255, iters=40) :\n",
        "    images = images.to(device)\n",
        "    labels = labels.to(device)\n",
        "    loss = nn.CrossEntropyLoss()\n",
        "\n",
        "    ori_images = images.data\n",
        "\n",
        "    for i in range(iters) :\n",
        "        images.requires_grad = True\n",
        "        outputs = model(images)\n",
        "\n",
        "        model.zero_grad()\n",
        "        cost = loss(outputs, labels).to(device)\n",
        "        cost.backward()\n",
        "\n",
        "        adv_images = images + alpha*images.grad.sign()\n",
        "        eta = torch.clamp(adv_images - ori_images, min=-eps, max=eps)\n",
        "        images = torch.clamp(ori_images + eta, min=0, max=1).detach_()\n",
        "\n",
        "    return images"
      ]
    },
    {
      "cell_type": "code",
      "execution_count": 27,
      "metadata": {
        "id": "kZV3eeQ_lbDi"
      },
      "outputs": [],
      "source": [
        "def train_adv_pgd(epoch, net):\n",
        "    net.train()\n",
        "    train_loss = 0\n",
        "    correct = 0\n",
        "    total = 0\n",
        "    eps=8/255\n",
        "    for batch_idx, (inputs, targets) in enumerate(trainloader):\n",
        "        inputs, targets = inputs.to(device), targets.to(device)\n",
        "\n",
        "        inputs_ = Variable(inputs.data, requires_grad=True)\n",
        "        \n",
        "        # h_ = net(inputs_)\n",
        "\n",
        "        # cost = criterion(h_, targets)\n",
        "\n",
        "        # net.zero_grad()\n",
        "        # cost.backward()\n",
        "\n",
        "        # pert= eps*inputs_.grad.detach().sign()\n",
        "        # x_adv = inputs_ + pert\n",
        "\n",
        "\n",
        "\n",
        "        optimizer_adv.zero_grad()\n",
        "        pgd_attacked_imgs = pgd_attack(net, inputs_, targets)\n",
        "        outputs = net(pgd_attacked_imgs)\n",
        "        loss = criterion(outputs, targets)\n",
        "        loss.backward()\n",
        "        optimizer_adv.step()\n",
        "\n",
        "        train_loss += loss.item()\n",
        "        _, predicted = outputs.max(1)\n",
        "        total += targets.size(0)\n",
        "        correct += predicted.eq(targets).sum().item()\n",
        "    print(\"train loss: \", train_loss/len(trainloader))\n",
        "    return train_loss/len(trainloader)"
      ]
    },
    {
      "cell_type": "code",
      "execution_count": null,
      "metadata": {},
      "outputs": [],
      "source": [
        "def test_adv(net, net_adv, eps):\n",
        "    accuracy=0\n",
        "    net.train()\n",
        "    net_adv.eval()\n",
        "    test_loss = 0\n",
        "    correct = 0\n",
        "    total = 0\n",
        "    for batch_idx, (inputs, targets) in enumerate(testloader):\n",
        "        inputs, targets = inputs.to(device), targets.to(device)\n",
        "\n",
        "        x_adv, h_adv, y_adv, pert = FGSM (net, inputs, targets, eps)\n",
        "\n",
        "        outputs = net_adv(x_adv)\n",
        "        loss = criterion(outputs, targets)\n",
        "\n",
        "        test_loss += loss.item()\n",
        "        _, predicted = outputs.max(1)\n",
        "        total += targets.size(0)\n",
        "        correct += predicted.eq(targets).sum().item()\n",
        "    accuracy = 100 * correct / total\n",
        "    print(accuracy)"
      ]
    },
    {
      "cell_type": "code",
      "execution_count": 28,
      "metadata": {
        "colab": {
          "base_uri": "https://localhost:8080/"
        },
        "id": "0GcAg5_Rm72S",
        "outputId": "94824616-5180-4948-e8ff-0bebda06334d"
      },
      "outputs": [
        {
          "name": "stdout",
          "output_type": "stream",
          "text": [
            "==> Building new model..\n"
          ]
        }
      ],
      "source": [
        "print('==> Building new model..')\n",
        "net_adv2 = ResNet18()\n",
        "net_adv2 = net_adv2.to(device)\n",
        "if device == 'cuda':\n",
        "    net_adv2 = torch.nn.DataParallel(net_adv2)\n",
        "    cudnn.benchmark = True\n",
        "\n",
        "criterion = nn.CrossEntropyLoss()\n",
        "optimizer_adv2 = optim.SGD(net_adv.parameters(), lr=lr,\n",
        "                      momentum=0.9, weight_decay=5e-4)\n",
        "scheduler_adv2 = torch.optim.lr_scheduler.CosineAnnealingLR(optimizer_adv2, T_max=200)\n"
      ]
    },
    {
      "cell_type": "code",
      "execution_count": null,
      "metadata": {
        "colab": {
          "base_uri": "https://localhost:8080/"
        },
        "id": "v_0jmVCVnKdG",
        "outputId": "c996d8ad-64f6-4c2c-8688-b9164415371f"
      },
      "outputs": [
        {
          "name": "stdout",
          "output_type": "stream",
          "text": [
            "0\n",
            "1\n",
            "2\n",
            "3\n",
            "4\n",
            "5\n",
            "6\n"
          ]
        }
      ],
      "source": [
        "train_losses_adv=[]\n",
        "test_losses_adv=[]\n",
        "epochs=50\n",
        "\n",
        "for epoch in range(0,epochs):\n",
        "    train_losses_adv.append(train_adv_pgd(epoch, net_adv2))\n",
        "    test_adv(net, net_adv2, 8/255)\n",
        "    scheduler_adv.step()\n",
        "    print(\"epoch: \", epoch)"
      ]
    },
    {
      "cell_type": "code",
      "execution_count": null,
      "metadata": {},
      "outputs": [],
      "source": [
        "# Save the model parameters\n",
        "torch.save(net_adv2.state_dict(), 'resnet18_pgdTrained_CIFAR10.pth')"
      ]
    },
    {
      "cell_type": "code",
      "execution_count": null,
      "metadata": {
        "id": "QxqryWpeYb5C"
      },
      "outputs": [],
      "source": [
        "# plt.plot(np.arange(1,epochs+1),train_losses, label='train - natural')\n",
        "# plt.plot(np.arange(1,epochs+1), test_losses, label='test - natural')\n",
        "# plt.plot(np.arange(1,epochs+1),train_losses_adv, label='train - adversary')\n",
        "# plt.plot(np.arange(1,epochs+1), test_losses_adv, label='test - adversary')\n",
        "# plt.xlabel('epochs')\n",
        "# plt.ylabel('losses')\n",
        "# plt.legend()\n",
        "# plt.show()"
      ]
    },
    {
      "cell_type": "code",
      "execution_count": null,
      "metadata": {
        "id": "Kmki3Db_afMQ"
      },
      "outputs": [],
      "source": [
        "# print('Accuracy of the network on unperturbed test images: %d %%' % (acc))"
      ]
    },
    {
      "cell_type": "code",
      "execution_count": null,
      "metadata": {
        "id": "QFb_GL2GahEl"
      },
      "outputs": [],
      "source": [
        "# for eps in [4/355, 8/255, 12/255]:\n",
        "#     accuracy=test_adv(net3, net_adv2, eps)\n",
        "#     print(\"epsilon:\", eps, \"accuracy:\", accuracy)"
      ]
    },
    {
      "cell_type": "markdown",
      "metadata": {
        "id": "BdF1481sHbd-"
      },
      "source": [
        "We see that **as epsilon increases, the accuracy decreases**, since for bigger epsilons, greater perturbations are allowed, therefore it becomes harder for the model to correctly label those perturbed examples."
      ]
    }
  ],
  "metadata": {
    "accelerator": "GPU",
    "colab": {
      "collapsed_sections": [
        "szrdxreF26jQ",
        "wbaJ_huqhnzm"
      ],
      "provenance": []
    },
    "kernelspec": {
      "display_name": "Python 3",
      "language": "python",
      "name": "python3"
    },
    "language_info": {
      "codemirror_mode": {
        "name": "ipython",
        "version": 3
      },
      "file_extension": ".py",
      "mimetype": "text/x-python",
      "name": "python",
      "nbconvert_exporter": "python",
      "pygments_lexer": "ipython3",
      "version": "3.7.4"
    }
  },
  "nbformat": 4,
  "nbformat_minor": 0
}
